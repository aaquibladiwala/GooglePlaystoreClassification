{
 "cells": [
  {
   "cell_type": "markdown",
   "metadata": {
    "colab_type": "text",
    "id": "xSLnEudzPmgt"
   },
   "source": [
    "# Google Playstore "
   ]
  },
  {
   "cell_type": "markdown",
   "metadata": {
    "colab_type": "text",
    "id": "Dsk4FUnOUx3s"
   },
   "source": [
    "## Authenticate and create PyDrive client."
   ]
  },
  {
   "cell_type": "markdown",
   "metadata": {
    "colab_type": "text",
    "id": "OcFUG6SMVzkY"
   },
   "source": [
    "You will be prompted with a link to click on, and give permission to Google Colab to access your Google Drive. If you don't want to give permission to your personal google drive, create a new gmail account, and complete this process using the new account."
   ]
  },
  {
   "cell_type": "code",
   "execution_count": 0,
   "metadata": {
    "colab": {
     "autoexec": {
      "startup": false,
      "wait_interval": 0
     }
    },
    "colab_type": "code",
    "id": "Z_FCt_RtAnpE"
   },
   "outputs": [],
   "source": [
    "!pip install -U -q PyDrive\n",
    "\n",
    "from pydrive.auth import GoogleAuth\n",
    "from pydrive.drive import GoogleDrive\n",
    "from google.colab import auth\n",
    "from oauth2client.client import GoogleCredentials\n",
    "\n",
    "# 1. Authenticate and create the PyDrive client.\n",
    "auth.authenticate_user()\n",
    "gauth = GoogleAuth()\n",
    "gauth.credentials = GoogleCredentials.get_application_default()\n",
    "drive = GoogleDrive(gauth)\n",
    "\n",
    "# PyDrive reference:\n",
    "# https://googledrive.github.io/PyDrive/docs/build/html/index.html\n"
   ]
  },
  {
   "cell_type": "markdown",
   "metadata": {
    "colab_type": "text",
    "id": "eaAbndQYVTKB"
   },
   "source": [
    "## Import data\n",
    "Locate the \"Data\" folder in your drive. Right click and click \"share\" to get the ID of the folder. Replace < Data folder id > with the id you got. (id should look like \"1j8oG_vCmum965Ghg8LdbSkfj-lfi-AZ0\" )"
   ]
  },
  {
   "cell_type": "code",
   "execution_count": 0,
   "metadata": {
    "colab": {
     "autoexec": {
      "startup": false,
      "wait_interval": 0
     }
    },
    "colab_type": "code",
    "id": "oknGSWjHNCmO"
   },
   "outputs": [],
   "source": [
    "import pandas as pd\n",
    "import numpy as np\n",
    "import io\n",
    "from time import ctime\n",
    "import csv"
   ]
  },
  {
   "cell_type": "code",
   "execution_count": 3,
   "metadata": {
    "colab": {
     "autoexec": {
      "startup": false,
      "wait_interval": 0
     },
     "base_uri": "https://localhost:8080/",
     "height": 85
    },
    "colab_type": "code",
    "executionInfo": {
     "elapsed": 850,
     "status": "ok",
     "timestamp": 1528016000939,
     "user": {
      "displayName": "Jyotirmoy Roy",
      "photoUrl": "//lh5.googleusercontent.com/-4HbibinfKVA/AAAAAAAAAAI/AAAAAAAAB2w/u-9kltIuJ68/s50-c-k-no/photo.jpg",
      "userId": "116351925789732293825"
     },
     "user_tz": -600
    },
    "id": "A2siYFZuM2JJ",
    "outputId": "95e1db1e-6f9c-43c6-a446-3f94f2ba5e77"
   },
   "outputs": [
    {
     "name": "stdout",
     "output_type": "stream",
     "text": [
      "title: training_desc.csv, id: 1kSoeoaK_TsTHnhSGPXOLNy43jd20G8bH\n",
      "title: training_data.csv, id: 12-B9GpferXatOB4ACo7GanQ2iBt5O-66\n",
      "title: test_data.csv, id: 1y_YySFyibYYwQtJr6v7Qf81FqULwK7Fk\n",
      "title: training_labels.csv, id: 1cqErOBjBB91P_xrt4TKuZ91OfTLoUYmx\n"
     ]
    }
   ],
   "source": [
    "\n",
    "file_list = drive.ListFile({'q': \"'1j8oG_vCmum9YuVWP8LdbSkfj-lfi-AZ0' in parents and trashed=false\"}).GetList()\n",
    "for file1 in file_list:\n",
    "  print('title: %s, id: %s' % (file1['title'], file1['id']))"
   ]
  },
  {
   "cell_type": "markdown",
   "metadata": {
    "colab_type": "text",
    "id": "iGOTPZQWWlf8"
   },
   "source": [
    "### Pulling data into Google Colab."
   ]
  },
  {
   "cell_type": "code",
   "execution_count": 9,
   "metadata": {
    "colab": {
     "autoexec": {
      "startup": false,
      "wait_interval": 0
     },
     "base_uri": "https://localhost:8080/",
     "height": 51
    },
    "colab_type": "code",
    "executionInfo": {
     "elapsed": 11935,
     "status": "ok",
     "timestamp": 1528016174643,
     "user": {
      "displayName": "Jyotirmoy Roy",
      "photoUrl": "//lh5.googleusercontent.com/-4HbibinfKVA/AAAAAAAAAAI/AAAAAAAAB2w/u-9kltIuJ68/s50-c-k-no/photo.jpg",
      "userId": "116351925789732293825"
     },
     "user_tz": -600
    },
    "id": "vo17S6sITJfa",
    "outputId": "e6cb85b5-e941-4300-a060-4451c003c730"
   },
   "outputs": [
    {
     "name": "stdout",
     "output_type": "stream",
     "text": [
      "('loading time starts at ', 'Sun Jun  3 08:56:09 2018')\n",
      "('Loading ends at ', 'Sun Jun  3 08:56:21 2018')\n"
     ]
    }
   ],
   "source": [
    "print (\"loading time starts at \" ,ctime())\n",
    "training_data_downloaded = drive.CreateFile({'id': '12-B9GpferXatOB4ACo7GanQ2iBt5O-66'})\n",
    "training_data_downloaded.GetContentFile('training_data.csv')\n",
    "\n",
    "training_desc_downloaded = drive.CreateFile({'id': '1kSoeoaK_TsTHnhSGPXOLNy43jd20G8bH'})\n",
    "training_desc_downloaded.GetContentFile('training_desc.csv')\n",
    "\n",
    "training_labels_downloaded = drive.CreateFile({'id': '1cqErOBjBB91P_xrt4TKuZ91OfTLoUYmx'})\n",
    "training_labels_downloaded.GetContentFile('training_labels.csv')\n",
    "\n",
    "test_data_downloaded = drive.CreateFile({'id': '1y_YySFyibYYwQtJr6v7Qf81FqULwK7Fk'})\n",
    "test_data_downloaded.GetContentFile('test_data.csv') \n",
    "\n",
    "print (\"Loading ends at \" ,ctime())"
   ]
  },
  {
   "cell_type": "markdown",
   "metadata": {
    "colab_type": "text",
    "id": "hQeUfmc7BJT3"
   },
   "source": [
    "###Loading Time = ~10 seconds"
   ]
  },
  {
   "cell_type": "markdown",
   "metadata": {
    "colab_type": "text",
    "id": "fFRASHaRRRZV"
   },
   "source": [
    "\n",
    "\n",
    "---\n"
   ]
  },
  {
   "cell_type": "markdown",
   "metadata": {
    "colab_type": "text",
    "id": "O5zfbjqlgSWN"
   },
   "source": [
    "## A. Introduction (max 500 words)\n"
   ]
  },
  {
   "cell_type": "markdown",
   "metadata": {
    "colab_type": "text",
    "id": "WP6x1GfHgrX1"
   },
   "source": [
    "The google play store provides a platform for app developers to sell their product to customers. However, with over two million apps in the store, it can be difficult for customers to find the types of apps they're looking for (Schoon, 2016). To simplify the search for customers, google requires publishers to pick a category (from over 40 options) to publish their app under. However, with so many categories, many which are overlapping, publishers can have difficulty choosing the best category (Dogteiv, 2016). This project aims to help the publishers by building a bernoulli naive bayes model which recommends the most appropriate category for their app. \n",
    "\n",
    "By improving the categorisation of apps, customers will more easily locate apps of interest. This will benefit all parties involved. The customer finds the types of apps they are looking for, the publisher’s income increases and google receives a commission for the sale.\n",
    "\n",
    "\n",
    "\n",
    "\n"
   ]
  },
  {
   "cell_type": "markdown",
   "metadata": {
    "colab_type": "text",
    "id": "vXjExeGHhfdL"
   },
   "source": [
    "## B. Methods (max 1500 words)"
   ]
  },
  {
   "cell_type": "markdown",
   "metadata": {
    "colab_type": "text",
    "id": "l78VSnashn5y"
   },
   "source": [
    "### Pre-processing "
   ]
  },
  {
   "cell_type": "markdown",
   "metadata": {
    "colab_type": "text",
    "id": "jUFeKHA4QwXK"
   },
   "source": [
    "The datasets provided have a combined size of 641 megabytes and the notebook has a memory capacity of 12.78 gigabytes.  Without reducing the size of the data, analysis cannot be completed without reaching the memory capacity. In addition to this, the time it takes to train the model on the full dataset is excessive. In order to overcome these memory and time issues, a number of pre-processing methods have been used which are discussed below. "
   ]
  },
  {
   "cell_type": "markdown",
   "metadata": {
    "colab_type": "text",
    "id": "axjxHToqQ44O"
   },
   "source": [
    "##### Load data files"
   ]
  },
  {
   "cell_type": "markdown",
   "metadata": {
    "colab_type": "text",
    "id": "agHEpxK6RS1Q"
   },
   "source": [
    "The files have been read in using pandas read.csv function. By default, pandas reads in the numbers as type 'float64'. In order to reduce the memory used to store the data, arguments are parsed to the function to read the numbers in as type 'float32'. This nearly halves the memory required.\n",
    "\n",
    "Reading in the numbers as type 'float32' reduces the precision of the data. However, given that a bernoulli naïve bayes model has been used (discussed in the classifier section), the lose in precision will not impact the model or the results. "
   ]
  },
  {
   "cell_type": "code",
   "execution_count": 0,
   "metadata": {
    "colab": {
     "autoexec": {
      "startup": false,
      "wait_interval": 0
     }
    },
    "colab_type": "code",
    "id": "6gFihNOc2nIe"
   },
   "outputs": [],
   "source": []
  },
  {
   "cell_type": "code",
   "execution_count": 0,
   "metadata": {
    "colab": {
     "autoexec": {
      "startup": false,
      "wait_interval": 0
     }
    },
    "colab_type": "code",
    "id": "1lvO4cYMQ4LM"
   },
   "outputs": [],
   "source": [
    "# Create dictionaries for each column to pass into read.csv function\n",
    "data_types_features = {0:'object'}\n",
    "for i in np.arange(1,13628):\n",
    "  data_types_features[i] = np.float32\n",
    "\n",
    "data_types_desc = {0:'object', 1:'object'}\n",
    "data_types_labels = {0:'object', 1:'object'}"
   ]
  },
  {
   "cell_type": "code",
   "execution_count": 11,
   "metadata": {
    "colab": {
     "autoexec": {
      "startup": false,
      "wait_interval": 0
     },
     "base_uri": "https://localhost:8080/",
     "height": 119
    },
    "colab_type": "code",
    "executionInfo": {
     "elapsed": 75535,
     "status": "ok",
     "timestamp": 1528016251359,
     "user": {
      "displayName": "Jyotirmoy Roy",
      "photoUrl": "//lh5.googleusercontent.com/-4HbibinfKVA/AAAAAAAAAAI/AAAAAAAAB2w/u-9kltIuJ68/s50-c-k-no/photo.jpg",
      "userId": "116351925789732293825"
     },
     "user_tz": -600
    },
    "id": "tC1lkpYXRHNk",
    "outputId": "a36887ec-f8c6-451a-81ce-94a7b905f390"
   },
   "outputs": [
    {
     "name": "stdout",
     "output_type": "stream",
     "text": [
      "('reading the dfs with explicit data types', 'Sun Jun  3 08:56:25 2018')\n",
      "('reading the dfs with explicit data types ends', 'Sun Jun  3 08:57:37 2018')\n",
      "The training data has 20104 rows and 13627 columns\n",
      "The test data has 2233 rows and 13627 columns\n",
      "The description data has 20104 rows and 2 columns\n",
      "The labels data has 20104 rows and 2 columns\n"
     ]
    }
   ],
   "source": [
    "print (\"reading the dfs with explicit data types\" , ctime())\n",
    "# Read in as dataframes with explicit data types \n",
    "df_train = pd.read_csv('training_data.csv', header = None, dtype = data_types_features)\n",
    "df_test =  pd.read_csv('test_data.csv', header = None, dtype = data_types_features)\n",
    "df_desc =  pd.read_csv('training_desc.csv', header = None, dtype = data_types_desc)\n",
    "df_labels =  pd.read_csv('training_labels.csv', header = None, dtype = data_types_labels)\n",
    "print (\"reading the dfs with explicit data types ends\" , ctime())\n",
    "\n",
    "datasets = [df_train, df_test, df_desc, df_labels]\n",
    "names = ['training', 'test', 'description', 'labels']\n",
    "i = 0\n",
    "for data in datasets:\n",
    "  print('The {} data has {} rows and {} columns'.format(names[i], data.shape[0], data.shape[1]))\n",
    "  i += 1"
   ]
  },
  {
   "cell_type": "markdown",
   "metadata": {
    "colab_type": "text",
    "id": "PNUyF-LJCn12"
   },
   "source": [
    "### Time = 66 seconds"
   ]
  },
  {
   "cell_type": "markdown",
   "metadata": {
    "colab_type": "text",
    "id": "JLbfJUqoSGo0"
   },
   "source": [
    "Note, the following blocks of code involves preparing the data for further processing. It includes naming the columns, joining the train_df with labels_df and converting the labels to integers to facilitate the naïve bayes algorithm."
   ]
  },
  {
   "cell_type": "code",
   "execution_count": 0,
   "metadata": {
    "colab": {
     "autoexec": {
      "startup": false,
      "wait_interval": 0
     }
    },
    "colab_type": "code",
    "id": "UjcrPcDdRJQG"
   },
   "outputs": [],
   "source": [
    "# rename columns -> makes finding the correct column after the join easier\n",
    "df_train.columns = df_train.columns.values.astype(str)\n",
    "df_train.rename(columns = {'0':'name'}, inplace = True)\n",
    "\n",
    "df_test.columns = df_test.columns.values.astype(str)\n",
    "df_test.rename(columns = {'0':'name'}, inplace = True)\n",
    "\n",
    "df_desc.columns = df_desc.columns.values.astype(str)\n",
    "df_desc.rename(columns = {'0':'name', '1':'description'}, inplace = True)\n",
    "\n",
    "df_labels.columns = df_labels.columns.values.astype(str)\n",
    "df_labels.rename(columns = {'0':'name', '1':'class'}, inplace = True)"
   ]
  },
  {
   "cell_type": "code",
   "execution_count": 0,
   "metadata": {
    "colab": {
     "autoexec": {
      "startup": false,
      "wait_interval": 0
     }
    },
    "colab_type": "code",
    "id": "hm5782ZHy4p-"
   },
   "outputs": [],
   "source": [
    "# Convert class labels to integers\n",
    "unique_classes = df_labels['class'].unique()\n",
    "\n",
    "class_labels = {}\n",
    "i = 0\n",
    "for class_ in unique_classes:\n",
    "  class_labels[class_] = i\n",
    "  i += 1\n",
    "  \n",
    "# Map to df_labels\n",
    "df_labels['class_int'] = df_labels['class'].map(class_labels)"
   ]
  },
  {
   "cell_type": "code",
   "execution_count": 0,
   "metadata": {
    "colab": {
     "autoexec": {
      "startup": false,
      "wait_interval": 0
     }
    },
    "colab_type": "code",
    "id": "aEKZAWWACVZ9"
   },
   "outputs": [],
   "source": [
    "# Join train_data with labels data\n",
    "df_train = pd.merge(df_train, df_labels, how = 'inner', left_on = 'name', right_on = 'name')\n",
    "\n",
    "# Drop class column -> So the type int label is only included\n",
    "df_train.drop(['class'], axis = 1, inplace = True)"
   ]
  },
  {
   "cell_type": "code",
   "execution_count": 15,
   "metadata": {
    "colab": {
     "autoexec": {
      "startup": false,
      "wait_interval": 0
     },
     "base_uri": "https://localhost:8080/",
     "height": 233
    },
    "colab_type": "code",
    "executionInfo": {
     "elapsed": 676,
     "status": "ok",
     "timestamp": 1528016261296,
     "user": {
      "displayName": "Jyotirmoy Roy",
      "photoUrl": "//lh5.googleusercontent.com/-4HbibinfKVA/AAAAAAAAAAI/AAAAAAAAB2w/u-9kltIuJ68/s50-c-k-no/photo.jpg",
      "userId": "116351925789732293825"
     },
     "user_tz": -600
    },
    "id": "SwxwnEKb3K_m",
    "outputId": "83873dc0-d1e5-4866-a225-c68b33f2d4a2"
   },
   "outputs": [
    {
     "data": {
      "text/html": [
       "<div>\n",
       "<style scoped>\n",
       "    .dataframe tbody tr th:only-of-type {\n",
       "        vertical-align: middle;\n",
       "    }\n",
       "\n",
       "    .dataframe tbody tr th {\n",
       "        vertical-align: top;\n",
       "    }\n",
       "\n",
       "    .dataframe thead th {\n",
       "        text-align: right;\n",
       "    }\n",
       "</style>\n",
       "<table border=\"1\" class=\"dataframe\">\n",
       "  <thead>\n",
       "    <tr style=\"text-align: right;\">\n",
       "      <th></th>\n",
       "      <th>name</th>\n",
       "      <th>1</th>\n",
       "      <th>2</th>\n",
       "      <th>3</th>\n",
       "      <th>4</th>\n",
       "      <th>5</th>\n",
       "      <th>6</th>\n",
       "      <th>7</th>\n",
       "      <th>8</th>\n",
       "      <th>9</th>\n",
       "      <th>...</th>\n",
       "      <th>13618</th>\n",
       "      <th>13619</th>\n",
       "      <th>13620</th>\n",
       "      <th>13621</th>\n",
       "      <th>13622</th>\n",
       "      <th>13623</th>\n",
       "      <th>13624</th>\n",
       "      <th>13625</th>\n",
       "      <th>13626</th>\n",
       "      <th>class_int</th>\n",
       "    </tr>\n",
       "  </thead>\n",
       "  <tbody>\n",
       "    <tr>\n",
       "      <th>0</th>\n",
       "      <td>com.borderstylo.retrollect</td>\n",
       "      <td>0.0</td>\n",
       "      <td>0.0</td>\n",
       "      <td>0.0</td>\n",
       "      <td>0.0</td>\n",
       "      <td>0.0</td>\n",
       "      <td>0.0</td>\n",
       "      <td>0.0</td>\n",
       "      <td>0.0</td>\n",
       "      <td>0.0</td>\n",
       "      <td>...</td>\n",
       "      <td>0.0</td>\n",
       "      <td>0.0</td>\n",
       "      <td>0.0</td>\n",
       "      <td>0.0</td>\n",
       "      <td>0.0</td>\n",
       "      <td>0.0</td>\n",
       "      <td>0.0</td>\n",
       "      <td>0.0</td>\n",
       "      <td>0.0</td>\n",
       "      <td>0</td>\n",
       "    </tr>\n",
       "    <tr>\n",
       "      <th>1</th>\n",
       "      <td>com.ogsm.respool</td>\n",
       "      <td>0.0</td>\n",
       "      <td>0.0</td>\n",
       "      <td>0.0</td>\n",
       "      <td>0.0</td>\n",
       "      <td>0.0</td>\n",
       "      <td>0.0</td>\n",
       "      <td>0.0</td>\n",
       "      <td>0.0</td>\n",
       "      <td>0.0</td>\n",
       "      <td>...</td>\n",
       "      <td>0.0</td>\n",
       "      <td>0.0</td>\n",
       "      <td>0.0</td>\n",
       "      <td>0.0</td>\n",
       "      <td>0.0</td>\n",
       "      <td>0.0</td>\n",
       "      <td>0.0</td>\n",
       "      <td>0.0</td>\n",
       "      <td>0.0</td>\n",
       "      <td>1</td>\n",
       "    </tr>\n",
       "    <tr>\n",
       "      <th>2</th>\n",
       "      <td>com.gasolin.android.avdhelper</td>\n",
       "      <td>0.0</td>\n",
       "      <td>0.0</td>\n",
       "      <td>0.0</td>\n",
       "      <td>0.0</td>\n",
       "      <td>0.0</td>\n",
       "      <td>0.0</td>\n",
       "      <td>0.0</td>\n",
       "      <td>0.0</td>\n",
       "      <td>0.0</td>\n",
       "      <td>...</td>\n",
       "      <td>0.0</td>\n",
       "      <td>0.0</td>\n",
       "      <td>0.0</td>\n",
       "      <td>0.0</td>\n",
       "      <td>0.0</td>\n",
       "      <td>0.0</td>\n",
       "      <td>0.0</td>\n",
       "      <td>0.0</td>\n",
       "      <td>0.0</td>\n",
       "      <td>2</td>\n",
       "    </tr>\n",
       "    <tr>\n",
       "      <th>3</th>\n",
       "      <td>com.droidhermes.birdjump</td>\n",
       "      <td>0.0</td>\n",
       "      <td>0.0</td>\n",
       "      <td>0.0</td>\n",
       "      <td>0.0</td>\n",
       "      <td>0.0</td>\n",
       "      <td>0.0</td>\n",
       "      <td>0.0</td>\n",
       "      <td>0.0</td>\n",
       "      <td>0.0</td>\n",
       "      <td>...</td>\n",
       "      <td>0.0</td>\n",
       "      <td>0.0</td>\n",
       "      <td>0.0</td>\n",
       "      <td>0.0</td>\n",
       "      <td>0.0</td>\n",
       "      <td>0.0</td>\n",
       "      <td>0.0</td>\n",
       "      <td>0.0</td>\n",
       "      <td>0.0</td>\n",
       "      <td>9</td>\n",
       "    </tr>\n",
       "    <tr>\n",
       "      <th>4</th>\n",
       "      <td>com.robotentertainment.heroacademy</td>\n",
       "      <td>0.0</td>\n",
       "      <td>0.0</td>\n",
       "      <td>0.0</td>\n",
       "      <td>0.0</td>\n",
       "      <td>0.0</td>\n",
       "      <td>0.0</td>\n",
       "      <td>0.0</td>\n",
       "      <td>0.0</td>\n",
       "      <td>0.0</td>\n",
       "      <td>...</td>\n",
       "      <td>0.0</td>\n",
       "      <td>0.0</td>\n",
       "      <td>0.0</td>\n",
       "      <td>0.0</td>\n",
       "      <td>0.0</td>\n",
       "      <td>0.0</td>\n",
       "      <td>0.0</td>\n",
       "      <td>0.0</td>\n",
       "      <td>0.0</td>\n",
       "      <td>3</td>\n",
       "    </tr>\n",
       "  </tbody>\n",
       "</table>\n",
       "<p>5 rows × 13628 columns</p>\n",
       "</div>"
      ],
      "text/plain": [
       "                                 name    1    2    3    4    5    6    7    8  \\\n",
       "0          com.borderstylo.retrollect  0.0  0.0  0.0  0.0  0.0  0.0  0.0  0.0   \n",
       "1                    com.ogsm.respool  0.0  0.0  0.0  0.0  0.0  0.0  0.0  0.0   \n",
       "2       com.gasolin.android.avdhelper  0.0  0.0  0.0  0.0  0.0  0.0  0.0  0.0   \n",
       "3            com.droidhermes.birdjump  0.0  0.0  0.0  0.0  0.0  0.0  0.0  0.0   \n",
       "4  com.robotentertainment.heroacademy  0.0  0.0  0.0  0.0  0.0  0.0  0.0  0.0   \n",
       "\n",
       "     9    ...      13618  13619  13620  13621  13622  13623  13624  13625  \\\n",
       "0  0.0    ...        0.0    0.0    0.0    0.0    0.0    0.0    0.0    0.0   \n",
       "1  0.0    ...        0.0    0.0    0.0    0.0    0.0    0.0    0.0    0.0   \n",
       "2  0.0    ...        0.0    0.0    0.0    0.0    0.0    0.0    0.0    0.0   \n",
       "3  0.0    ...        0.0    0.0    0.0    0.0    0.0    0.0    0.0    0.0   \n",
       "4  0.0    ...        0.0    0.0    0.0    0.0    0.0    0.0    0.0    0.0   \n",
       "\n",
       "   13626  class_int  \n",
       "0    0.0          0  \n",
       "1    0.0          1  \n",
       "2    0.0          2  \n",
       "3    0.0          9  \n",
       "4    0.0          3  \n",
       "\n",
       "[5 rows x 13628 columns]"
      ]
     },
     "execution_count": 15,
     "metadata": {
      "tags": []
     },
     "output_type": "execute_result"
    }
   ],
   "source": [
    "df_train.head()"
   ]
  },
  {
   "cell_type": "markdown",
   "metadata": {
    "colab_type": "text",
    "id": "UdWHc8SLh3m7"
   },
   "source": [
    "##### Filter observations"
   ]
  },
  {
   "cell_type": "markdown",
   "metadata": {
    "colab_type": "text",
    "id": "rwpW2Ks3S0cK"
   },
   "source": [
    "To reduce the time taken the train the model, observations have been filtered based on the size of their description. A threshold of 85 words was chosen as a descriptive app is generally considered to have at least 100 words (Olabenjo, 2016). This results in 6224 apps being removed from the training set.\n",
    "\n",
    "This method was chosen over randomly sampling the data as the logic is that apps with small descriptions will create noise in the data. For example, an app with a small description will likely contain a feature vector with more zeros than ones compared to apps from the same class. However, had the description been longer, it may have more closely resembled other apps from its class. Therefore, small app description may be creating noise in the data and by removing them, the hope is it will increase the models performance."
   ]
  },
  {
   "cell_type": "code",
   "execution_count": 16,
   "metadata": {
    "colab": {
     "autoexec": {
      "startup": false,
      "wait_interval": 0
     },
     "base_uri": "https://localhost:8080/",
     "height": 34
    },
    "colab_type": "code",
    "executionInfo": {
     "elapsed": 2032,
     "status": "ok",
     "timestamp": 1528016516875,
     "user": {
      "displayName": "Jyotirmoy Roy",
      "photoUrl": "//lh5.googleusercontent.com/-4HbibinfKVA/AAAAAAAAAAI/AAAAAAAAB2w/u-9kltIuJ68/s50-c-k-no/photo.jpg",
      "userId": "116351925789732293825"
     },
     "user_tz": -600
    },
    "id": "2rJ5fFYOxByY",
    "outputId": "19312754-8a1d-474b-ce88-110f49309dfd"
   },
   "outputs": [
    {
     "name": "stdout",
     "output_type": "stream",
     "text": [
      "Number of observations removed: 6224\n"
     ]
    }
   ],
   "source": [
    "# Count words in each description\n",
    "word_count = []\n",
    "desc_array = df_desc['description'].values\n",
    "for desc in desc_array:\n",
    "  words = len(desc.split(' '))\n",
    "  word_count.append(words)\n",
    "\n",
    "# Add word_count list to df_desc\n",
    "df_desc['word_count'] = word_count\n",
    "\n",
    "# Find apps which have 85 or less words, then filter training df\n",
    "thresehold = 85\n",
    "delete_apps = df_desc.loc[df_desc['word_count'] <= thresehold, 'name'].values.tolist()\n",
    "df_train = df_train.loc[~(df_train['name'].isin(delete_apps)), :].reset_index(drop = True)\n",
    "\n",
    "print('Number of observations removed: {}'.format(len(delete_apps)))"
   ]
  },
  {
   "cell_type": "markdown",
   "metadata": {
    "colab_type": "text",
    "id": "ioboJeJ8VNVF"
   },
   "source": [
    "##### Train validation split"
   ]
  },
  {
   "cell_type": "markdown",
   "metadata": {
    "colab_type": "text",
    "id": "BMjjt_4TVzUN"
   },
   "source": [
    "The df_train data has been split into a train set and validation set. The model will be trained on the train set and tested on the validation set. Despite cross validation considered a better method for validating a model (in terms of providing more reliable results), this method was chosen because training and testing a model multiple times was taking to long. \n",
    "\n",
    "Stratified sampling has been used to split the training data into a train set and validation set. This will ensure the training set is a fair representation of what the data would have looked like had it been trained on the full dataset.\n"
   ]
  },
  {
   "cell_type": "code",
   "execution_count": 17,
   "metadata": {
    "colab": {
     "autoexec": {
      "startup": false,
      "wait_interval": 0
     },
     "base_uri": "https://localhost:8080/",
     "height": 119
    },
    "colab_type": "code",
    "executionInfo": {
     "elapsed": 806,
     "status": "ok",
     "timestamp": 1528016529122,
     "user": {
      "displayName": "Jyotirmoy Roy",
      "photoUrl": "//lh5.googleusercontent.com/-4HbibinfKVA/AAAAAAAAAAI/AAAAAAAAB2w/u-9kltIuJ68/s50-c-k-no/photo.jpg",
      "userId": "116351925789732293825"
     },
     "user_tz": -600
    },
    "id": "JWJKNgNsWSGL",
    "outputId": "9f5b4515-b514-44f2-9776-ca5e74d1a2e3"
   },
   "outputs": [
    {
     "name": "stdout",
     "output_type": "stream",
     "text": [
      "   class_int  count  fraction  val_sample\n",
      "0         10    567  0.040850       340.2\n",
      "1          0    555  0.039986       333.0\n",
      "2          4    551  0.039697       330.6\n",
      "3         15    543  0.039121       325.8\n",
      "4          9    532  0.038329       319.2\n"
     ]
    }
   ],
   "source": [
    "# Stratified sampling from train\n",
    "thresehold = int((0.6*(len(df_train)))) \n",
    "\n",
    "# Find the observations per class, then calculate the amount of samples which will be selected for each class\n",
    "obs_per_class = df_train['class_int'].value_counts().reset_index()\n",
    "obs_per_class.rename(columns = {'index':'class_int', 'class_int':'count'}, inplace = True)\n",
    "obs_per_class['fraction'] = obs_per_class['count']/float(df_train.shape[0])\n",
    "obs_per_class['val_sample'] = obs_per_class['fraction'] * thresehold\n",
    "print(obs_per_class.head())\n",
    "\n",
    "# Create a dictionary of the class label and the amount of samples to be included\n",
    "sample_dict_thresehold = dict(zip(obs_per_class['class_int'], obs_per_class['val_sample']))"
   ]
  },
  {
   "cell_type": "code",
   "execution_count": 18,
   "metadata": {
    "colab": {
     "autoexec": {
      "startup": false,
      "wait_interval": 0
     },
     "base_uri": "https://localhost:8080/",
     "height": 51
    },
    "colab_type": "code",
    "executionInfo": {
     "elapsed": 2686,
     "status": "ok",
     "timestamp": 1528016535535,
     "user": {
      "displayName": "Jyotirmoy Roy",
      "photoUrl": "//lh5.googleusercontent.com/-4HbibinfKVA/AAAAAAAAAAI/AAAAAAAAB2w/u-9kltIuJ68/s50-c-k-no/photo.jpg",
      "userId": "116351925789732293825"
     },
     "user_tz": -600
    },
    "id": "d_iW_7Sa3-nT",
    "outputId": "92fefaac-f636-414d-9c75-342dc1036f6e"
   },
   "outputs": [
    {
     "name": "stdout",
     "output_type": "stream",
     "text": [
      "Training data has 5552 observations\n",
      "Validation data has 8328 observations\n"
     ]
    }
   ],
   "source": [
    "# Create dictionary with all the classes and set to 0 for each\n",
    "class_count = {}\n",
    "classes = df_labels['class_int'].values.tolist()\n",
    "\n",
    "for class_ in classes:\n",
    "  class_count[class_] = 0\n",
    "\n",
    "counter = 0\n",
    "row_idx = []  \n",
    "# Shuffle dataframe -> importantly, the index value stays the same\n",
    "np.random.seed(1)\n",
    "df_train = df_train.iloc[np.random.permutation(len(df_train))]\n",
    "\n",
    "class_col = df_train.columns.values.tolist().index('class_int')\n",
    "# Loop though dataframe appending i value of row when that rows class count is less than its thesehold\n",
    "i = 0\n",
    "while i < len(df_train):\n",
    "  class_ = df_train.iat[i, class_col]\n",
    "  if class_count[class_] < sample_dict_thresehold[class_]:\n",
    "    row_idx.append(i)\n",
    "    counter += 1\n",
    "    class_count[class_] += 1\n",
    "    \n",
    "    # Break once all the samples have been collected\n",
    "    if counter == thresehold:\n",
    "      break\n",
    "    \n",
    "  i += 1\n",
    "\n",
    "# find idx value of sampled rows\n",
    "keep_idx = df_train.index.values[row_idx]\n",
    "\n",
    "# Filter df_train\n",
    "df_validation = df_train.iloc[df_train.index.isin(keep_idx), :]\n",
    "df_train = df_train.iloc[~(df_train.index.isin(keep_idx)), :]\n",
    "\n",
    "print('Training data has {} observations'.format(df_train.shape[0]))\n",
    "print('Validation data has {} observations'.format(df_validation.shape[0]))"
   ]
  },
  {
   "cell_type": "markdown",
   "metadata": {
    "colab_type": "text",
    "id": "E8iIWfyhYcuF"
   },
   "source": [
    "The general rule of thumb is to allocated more data to the training set - generally around 80% to train and 20% to validation. However, to increase the speed of the model training, the data has been split 40% train and 60% validation. It is likely this increase in training speed will come at the cost of a reduction in accuracy due to model parameters being trained on less data"
   ]
  },
  {
   "cell_type": "markdown",
   "metadata": {
    "colab_type": "text",
    "id": "rgmnIUKiZnTs"
   },
   "source": [
    "Note, the following code blocks relate to converting the features to binary. More explanation on why will be provided in the classifier section."
   ]
  },
  {
   "cell_type": "code",
   "execution_count": 0,
   "metadata": {
    "colab": {
     "autoexec": {
      "startup": false,
      "wait_interval": 0
     }
    },
    "colab_type": "code",
    "id": "_PITT9v_AHw6"
   },
   "outputs": [],
   "source": [
    "# Convert dataframes into arrays for NB algorithm. The first column is the apps name and hence has been cut from all the arrays\n",
    "df_train_array = df_train.iloc[:, 1:].values\n",
    "df_validation_array = df_validation.iloc[:, 1:].values\n",
    "df_test_array = df_test.iloc[:, 1:].values"
   ]
  },
  {
   "cell_type": "code",
   "execution_count": 0,
   "metadata": {
    "colab": {
     "autoexec": {
      "startup": false,
      "wait_interval": 0
     }
    },
    "colab_type": "code",
    "id": "EudLDjD88k0V"
   },
   "outputs": [],
   "source": [
    "# Function which converts features into binary\n",
    "def convert_to_boolean(x):\n",
    "    if x > 0.0:\n",
    "        return True\n",
    "    else:\n",
    "        return False\n",
    "    \n",
    "conversion = np.vectorize(convert_to_boolean)"
   ]
  },
  {
   "cell_type": "code",
   "execution_count": 16,
   "metadata": {
    "colab": {
     "autoexec": {
      "startup": false,
      "wait_interval": 0
     },
     "base_uri": "https://localhost:8080/",
     "height": 51
    },
    "colab_type": "code",
    "executionInfo": {
     "elapsed": 32611,
     "status": "ok",
     "timestamp": 1525651923680,
     "user": {
      "displayName": "Aaquib Ladiwala",
      "photoUrl": "//lh4.googleusercontent.com/-W2UYInAok8M/AAAAAAAAAAI/AAAAAAAAAV8/TEt3FA9T4B0/s50-c-k-no/photo.jpg",
      "userId": "114107665292824214538"
     },
     "user_tz": -600
    },
    "id": "mIzqwD7oABxq",
    "outputId": "a56de7c3-e1e0-42f3-d7d8-83e1282caf0b"
   },
   "outputs": [
    {
     "name": "stdout",
     "output_type": "stream",
     "text": [
      "('Converting the feature set begins', 'Mon May  7 00:11:31 2018')\n",
      "('Converting the feature set ends', 'Mon May  7 00:12:03 2018')\n"
     ]
    }
   ],
   "source": [
    "print (\"Converting the feature set begins\" ,ctime())\n",
    "# Apply the function above to convert the features\n",
    "arrays = [df_train_array, df_validation_array]\n",
    "for array in arrays:\n",
    "  for i in range(df_train_array.shape[1] - 1): # Exclude label column\n",
    "    # Convert array to binary\n",
    "    converted_feature = conversion(array[:,i])\n",
    "    array[:, i] = converted_feature\n",
    "\n",
    "\n",
    "for i in range(df_test_array.shape[1]): # no label\n",
    "  converted_feature = conversion(df_test_array[:,i])\n",
    "  df_test_array[:, i] = converted_feature\n",
    "  \n",
    "print (\"Converting the feature set ends\" ,ctime())"
   ]
  },
  {
   "cell_type": "markdown",
   "metadata": {
    "colab_type": "text",
    "id": "h0drGfMcDjtW"
   },
   "source": [
    "### Time = 30 seconds\n",
    "\n",
    "---"
   ]
  },
  {
   "cell_type": "markdown",
   "metadata": {
    "colab_type": "text",
    "id": "tmaj35JPaCLr"
   },
   "source": [
    "##### Feature selection"
   ]
  },
  {
   "cell_type": "markdown",
   "metadata": {
    "colab_type": "text",
    "id": "iqAsDFNyab3T"
   },
   "source": [
    "Feature selection has been implemented to increase the speed of the algorithm. Feature selection is often used in text classification due to the high dimensionality of the data (Schneider, 2005).  In addition to this, text classification problems have a lot of the features which are noisy and redundant (Narayanan et al, 2013). By removing such features, the model’s performance can improve. Ideally feature selection would be used in the train and testing stage of the process to find the set of features which has the best out of sample accuracy. However, it has been implemented here to increase the speed of the training. \n",
    "\n",
    "There are a handful of feature selection methods which are commonly applied to text classification with naïve bayes models, all of which use a greedy approach (Schneider, 2005). This project applied a mutual information approach. This approach provides a theoretic measure of the information a feature gives about the class (Schneider, 2005). The formula is shown below: \n"
   ]
  },
  {
   "cell_type": "markdown",
   "metadata": {
    "colab_type": "text",
    "id": "uhil6ZI5g1v3"
   },
   "source": [
    "$I(X:Y) = \\Sigma_{y \\epsilon Y}\\Sigma_{x \\epsilon X} p(x,y)log \\frac{p(x,y)}{p(x)p(y)}$"
   ]
  },
  {
   "cell_type": "markdown",
   "metadata": {
    "colab_type": "text",
    "id": "dbU3RFmQilGM"
   },
   "source": [
    "Where:\n",
    "* X is the specific feature\n",
    "* Y is the response variable\n",
    "* p(x,y) is the joint probability function of X and Y\n",
    "* p(X) and p(y) are marginal probility functions of X and Y\n",
    "\n",
    "For the bernoulli model, X will be either 1 or 0 and Y will range between 0 and 29 (as a result of the data having 30 classes)\n",
    "\n",
    "The formula returns a non-negative value. Mutual information is equal zero when the X and Y variables are independent and the more dependent, the higher the value. Additionally, when joint probability is zero, the algorithm sets the value of that specific dependency to zero instead of minus infinity.\n",
    "\n",
    "Note, the mutual information values for each column have been calculated on the training set, not the combined train and validation sets."
   ]
  },
  {
   "cell_type": "code",
   "execution_count": 0,
   "metadata": {
    "colab": {
     "autoexec": {
      "startup": false,
      "wait_interval": 0
     }
    },
    "colab_type": "code",
    "id": "nQVqWBUlD5lm"
   },
   "outputs": [],
   "source": [
    "# Hold the mutual information values for each column\n",
    "MI_value = np.zeros((df_train_array[:,:-1].shape[1],1))\n",
    "\n",
    "# # Find the marginal probability of each class\n",
    "y = df_train_array[:, -1]\n",
    "n_rows = df_train_array.shape[0]\n",
    "unique_class = np.unique(y)\n",
    "prob_class = {}\n",
    "for class_ in unique_class:\n",
    "    variable_name = 'class_' + str(class_)\n",
    "    class_count = len(y[np.where(y == class_)])\n",
    "    prob_class[variable_name] = class_count/float(n_rows)\n",
    "\n",
    "# For each column, find the marginal probability of 1, 0 and store in dictionary\n",
    "conditional_probs = {}\n",
    "joint_probs = {}\n",
    "marginal_probs = {}\n",
    "for i in range(df_train_array.shape[1] - 1): #exclude label column\n",
    "    X = df_train_array[:, i]  \n",
    "    marg_prob_col_1 = 'prob_1_col_{}'.format(i)\n",
    "    marg_prob_col_2 = 'prob_0_col_{}'.format(i)\n",
    "    prob_word = len(X[np.where(X == 1.0)])/float(n_rows)\n",
    "    marginal_probs[marg_prob_col_1] = prob_word\n",
    "    marginal_probs[marg_prob_col_2] = 1 - prob_word\n",
    "    \n",
    "    # For each class and on the specific column, calculate the conditional probability of 1 or 0\n",
    "    for j in unique_class:        \n",
    "        variable_name_1 = '1_given_{}_for_col_{}'.format(j, i)\n",
    "        variable_name_2 = '0_given_{}_for_col_{}'.format(j, i)\n",
    "        X_filtered_by_class = np.where(y == j)\n",
    "        X_equals_1 = np.sum(X[X_filtered_by_class])/len(X[X_filtered_by_class])\n",
    "        conditional_probs[variable_name_1] = X_equals_1\n",
    "        conditional_probs[variable_name_2] = 1 - X_equals_1\n",
    "        # Use Bayes theorem to find joint probabilities\n",
    "        joint_name_1 = '1_and_{}_col_{}'.format(j, i)\n",
    "        joint_name_2 = '0_and_{}_col_{}'.format(j, i)\n",
    "        joint_probs[joint_name_1] = conditional_probs[variable_name_1] * prob_class['class_' + str(j)]\n",
    "        joint_probs[joint_name_2] = conditional_probs[variable_name_2] * prob_class['class_' + str(j)]"
   ]
  },
  {
   "cell_type": "code",
   "execution_count": 0,
   "metadata": {
    "colab": {
     "autoexec": {
      "startup": false,
      "wait_interval": 0
     }
    },
    "colab_type": "code",
    "id": "UG28FtWAGOxa"
   },
   "outputs": [],
   "source": [
    "for i in range(df_train_array.shape[1] - 1): # Exclude label\n",
    "    MI = 0\n",
    "    # iteratively update MI for each class word/no word calculation \n",
    "    for j in unique_class:\n",
    "        for k in [0,1]: # Word or no word\n",
    "            joint = joint_probs['{}_and_{}_col_{}'.format(k,j,i)]\n",
    "            if joint == 0.0: # Set MI value to zero for specific class and word no word calc for the column\n",
    "                continue\n",
    "            \n",
    "            MI += joint * np.log2(joint/(marginal_probs['prob_{}_col_{}'.format(k,i)] *\n",
    "                                         prob_class['class_{}'.format(j)]))\n",
    "    MI_value[i] = MI\n"
   ]
  },
  {
   "cell_type": "markdown",
   "metadata": {
    "colab_type": "text",
    "id": "CxFPpG9SFaC3"
   },
   "source": [
    "After trying a range of different feature sizes, it was found that the largest subset of columns to train the model with which ran in a reasonable time was 10%."
   ]
  },
  {
   "cell_type": "code",
   "execution_count": 0,
   "metadata": {
    "colab": {
     "autoexec": {
      "startup": false,
      "wait_interval": 0
     }
    },
    "colab_type": "code",
    "id": "g2myWRIkGlVh"
   },
   "outputs": [],
   "source": [
    "# Create array with the first column holding the columns and the second column the correspoding MI value\n",
    "columns = np.arange(0.0,MI_value.shape[0],1).reshape(MI_value.shape[0],1)\n",
    "MI_values = np.concatenate((columns, MI_value), axis = 1)\n",
    "\n",
    "# Order array from higher value to lower\n",
    "MI_values = MI_values[MI_values[:,1].argsort()]\n",
    "MI_values = np.flipud(MI_values)\n"
   ]
  },
  {
   "cell_type": "code",
   "execution_count": 0,
   "metadata": {
    "colab": {
     "autoexec": {
      "startup": false,
      "wait_interval": 0
     }
    },
    "colab_type": "code",
    "id": "4RM4Wm6YdAty"
   },
   "outputs": [],
   "source": [
    "# Create y arrays from train and validation sets\n",
    "y_train = df_train_array[:,-1].reshape(-1,1)\n",
    "y_val = df_validation_array[:,-1].reshape(-1,1)\n",
    "\n",
    "# Filter all the arrays to include only the top 10% of features based on mutual information scores\n",
    "columns = int(0.1 * MI_values.shape[0])\n",
    "filtered_columns_idx = MI_values[0:columns, 0].astype(int)\n",
    "\n",
    "df_train_array = df_train_array[:, filtered_columns_idx]\n",
    "df_train_array = np.concatenate((df_train_array, y_train), axis = 1)\n",
    "df_validation_array = df_validation_array[:, filtered_columns_idx]\n",
    "df_validation_array = np.concatenate((df_validation_array, y_val), axis = 1)\n",
    "df_test_array = df_test_array[:, filtered_columns_idx]"
   ]
  },
  {
   "cell_type": "markdown",
   "metadata": {
    "colab_type": "text",
    "id": "P1_hsOaLhfTf"
   },
   "source": [
    "### Classifier"
   ]
  },
  {
   "cell_type": "markdown",
   "metadata": {
    "colab_type": "text",
    "id": "Os1-qbDXeH61"
   },
   "source": [
    "This project implements a naïve bayes classifier. The naïve bayes model uses a probabilistic framework where it predicts the most likely class by using bayes rule (Schneider, 2005). The model is fast and simple and as a result, has been widely used in text classification problems (Narayanan et al, 2013). At the expense of accuracy, the naïve bayes model assumes independence between words in the document. Without this assumption, the training would be too computationally intensive (Schneider, 2005).\n",
    "\n",
    "There are a range of naïve bayes models available, differing on the modelling of words in the document (Schneider, 2005). The three most common are: Bernoulli, multinomial and poisson. The Bernoulli model is a binary model, 1 of the word exists, 0 if it does not. The latter two models require the count of each word in the document (Schneider, 2005). As the data provided uses tf-idf values and there was no description on how these values were calculated (using frequency etc), the multinomial and poisson models were not applicable. Hence, the bernoulli model has been applied. To convert the data into binary values, we have assumes values greater than 0 represent the document having the word.\n",
    "\n",
    "\n",
    "The Navies Bayes Classifier works by calculating the posterior probability P(c|X) from the prior probability of class P(c), the likelihood of the class P(X|c) and the prior probability of predictor P(X). Bayes theorem can be represented by the equation below:\n",
    "\n",
    "\n"
   ]
  },
  {
   "cell_type": "markdown",
   "metadata": {
    "colab_type": "text",
    "id": "Z9V5JGJwyolV"
   },
   "source": [
    "$P(c|X) = \\frac{P(X|c)P(c)}{P(X)} = \\frac{P(c)}{P(X)} \\Pi_{n=1}^{t}P(X{n}|c)$\n",
    " \n",
    "\n",
    "Where t is the total no of attributes and X${n}$ is the value of i$^{th}$ attribute\n",
    "\n",
    "As there are 30 classes in the dataset we will be classifying apps based on the highest probability for each category. Hence the equation for our classification will be maximised on the basis of each category. The equation for the same is as shown below:\n",
    "\n",
    "$Class(App) = max(P(c)\\Pi_{n=1}^{t}P(X{n}|c)$\n",
    "\n",
    "However, using the equation above can result in floating point underflow as a result of all the conditional probabilities being multiplied together. To overcome this, the equation is modified by adding logarithms of the probabilities instead of multiplying. This is shown in the equation below (Christoper, 2009).\n",
    "\n",
    "$Class(App) = max(log(P(c)) + \\Sigma_{n=1}^{t}log(P(X{n}|c)$\n",
    "\n",
    "Laplace smoothing is used to avoid the situation wherein the model assigns a probability of zero as it has not seen the event in the training data.\n",
    "The probability P(C) and P(X|c) can be corrected as follows:\n",
    "\n",
    "$P(X{i}|c) = \\frac{|D{cxi} + 1|}{|Dc| + Ni} $\n",
    "\n",
    "---\n",
    "\n",
    "\n"
   ]
  },
  {
   "cell_type": "markdown",
   "metadata": {
    "colab_type": "text",
    "id": "06FQvQEQ8lyw"
   },
   "source": [
    "### Training\n",
    "Preprocessed df_train was used in training our classifier. In the training phase we are calculating prior probabilities for each category and conditional probability for each column. \n",
    "We start the training phase by taking in the feature array and counting the number of features.\n",
    "We initialize two dictionaries that will store the prior probability and conditional probability of each class.\n",
    "We then loop each row and before we proceed to calculate the prior and the conditional probabilities we check to only include those rows which include the class. We then proceed to calculate the prior probability of the class and store it in the pre-initialized dictionary. \n",
    "\n",
    "We then proceed to find the conditional probabilites for each column in the row. We loop through the features counting the number of rows which have a value for the specific class. We then sum the conditional probabilites for each column in the row and then add 1 as part of the Laplace smoothening.After the adding all the conditional probabilites we then proceed to complete the second part of smoothening where in we divide the conditional probabiility by the sum of the number of features for that class and 2.\n",
    "We then complete one cycle on training phase by storing the conditional probability in the dictionary."
   ]
  },
  {
   "cell_type": "code",
   "execution_count": 21,
   "metadata": {
    "colab": {
     "autoexec": {
      "startup": false,
      "wait_interval": 0
     },
     "base_uri": "https://localhost:8080/",
     "height": 51
    },
    "colab_type": "code",
    "executionInfo": {
     "elapsed": 185242,
     "status": "ok",
     "timestamp": 1525652148083,
     "user": {
      "displayName": "Aaquib Ladiwala",
      "photoUrl": "//lh4.googleusercontent.com/-W2UYInAok8M/AAAAAAAAAAI/AAAAAAAAAV8/TEt3FA9T4B0/s50-c-k-no/photo.jpg",
      "userId": "114107665292824214538"
     },
     "user_tz": -600
    },
    "id": "AjDQ8JYwhxHl",
    "outputId": "5d79a5e9-ce89-49b0-af07-153a040fa890"
   },
   "outputs": [
    {
     "name": "stdout",
     "output_type": "stream",
     "text": [
      "('training starts', 'Mon May  7 00:12:43 2018')\n",
      "('training ends', 'Mon May  7 00:15:47 2018')\n"
     ]
    }
   ],
   "source": [
    "print (\"training starts\" , ctime())\n",
    "### Train ###\n",
    "# unique_class -> variable created earlier\n",
    "features = df_train_array[:, :-1] # feature array\n",
    "n_features = features.shape[1] # number of features\n",
    "# n_rows = features.shape[0] -> created earlier\n",
    "\n",
    "# Create empty dictionaries which will store the priors and conditional probs\n",
    "priors_dict = {}\n",
    "conditional_dict = {}\n",
    "\n",
    "# Loop through each class to calculate prior and conditional probs\n",
    "for class_ in classes:\n",
    "    # filter array to only rows which include the class\n",
    "    class_rows = df_train_array[np.where(y == class_)] # y variable was created earlier\n",
    "    # find prior\n",
    "    n_rows_class = class_rows.shape[0] # number of rows with the specific class\n",
    "    prior = n_rows_class/(float(n_rows)) # prior\n",
    "    # Store prior in dictionary\n",
    "    variable_name = 'class_' + str(class_)\n",
    "    priors_dict[variable_name] = prior\n",
    "    \n",
    "    #Find column conditional probabilities \n",
    "    class_cond_prob = np.zeros((n_features,1)) # vector of zeros which will be updated to have each columns cond prob for the class\n",
    "    # Loop through the features counting the number of rows which have a value for the specific class\n",
    "    for i in range(n_features):\n",
    "        feature = class_rows[:, i] \n",
    "        class_feature_sum = np.sum(feature) # sum feature\n",
    "        class_cond_prob[i] = class_feature_sum + 1 # update the cond prob vector for each feature - 1 is part of laplace smoothng\n",
    "    # Convert \n",
    "    class_cond_prob = class_cond_prob/float((n_rows_class + 2)) # 2 is the second part of the smoothing\n",
    "    # store conditional probs for the class in dictionary\n",
    "    conditional_dict[variable_name] = class_cond_prob\n",
    "    \n",
    "print (\"training ends\" ,ctime())"
   ]
  },
  {
   "cell_type": "markdown",
   "metadata": {
    "colab_type": "text",
    "id": "y8D3_kZmFW8Q"
   },
   "source": [
    "### Time = ~209 seconds"
   ]
  },
  {
   "cell_type": "markdown",
   "metadata": {
    "colab_type": "text",
    "id": "s9J7Yiab9VjF"
   },
   "source": [
    "### Testing\n",
    "\n",
    "In the testing phase we taken in the dataset over which we need to test out the results (Validation and Actual Testing). We make use of the dictionaries for prior and conditional probabilities created earlier to classify the testing data.\n",
    "\n",
    "We start by initializing an array to store the prediction. We then loop for each row of the test data to calcualte prior probability and conditional probability of each app and column respectively for each class. We then proceed to calculate the final probability of each app by adding the logarithmic prior probability and conditional probabability for each class. We finally store the maximum probability for the app after calculating all the probabilites and based on the maxiumum probability we assign our test app the class of the highest probability"
   ]
  },
  {
   "cell_type": "code",
   "execution_count": 1,
   "metadata": {
    "colab": {
     "autoexec": {
      "startup": false,
      "wait_interval": 0
     }
    },
    "colab_type": "code",
    "id": "D68ruUu2quF9"
   },
   "outputs": [],
   "source": [
    "### Predict ###\n",
    "def predict(array):\n",
    "  predictions = np.zeros((array.shape[0],1))\n",
    "  for i in range(array.shape[0]):\n",
    "    new_row = array[i, :-1]\n",
    "    posteriors = np.zeros((len(unique_class),1))\n",
    "    for j in range(posteriors.shape[0]):     \n",
    "      variable = 'class_' + str(j)\n",
    "      prior_prob = priors_dict[variable]\n",
    "      cond_prob_vector = conditional_dict[variable].flatten() \n",
    "      prob = np.log(prior_prob) + np.log(np.prod(cond_prob_vector[np.where(new_row == True)])) + \\\n",
    "                                  np.log(np.prod(1-cond_prob_vector[np.where(new_row ==False)]))\n",
    "      posteriors[j] = prob\n",
    "\n",
    "    predictions[i] = np.argmax(posteriors)\n",
    "    \n",
    "  return predictions.ravel()"
   ]
  },
  {
   "cell_type": "code",
   "execution_count": 23,
   "metadata": {
    "colab": {
     "autoexec": {
      "startup": false,
      "wait_interval": 0
     },
     "base_uri": "https://localhost:8080/",
     "height": 51
    },
    "colab_type": "code",
    "executionInfo": {
     "elapsed": 15637,
     "status": "ok",
     "timestamp": 1525652179141,
     "user": {
      "displayName": "Aaquib Ladiwala",
      "photoUrl": "//lh4.googleusercontent.com/-W2UYInAok8M/AAAAAAAAAAI/AAAAAAAAAV8/TEt3FA9T4B0/s50-c-k-no/photo.jpg",
      "userId": "114107665292824214538"
     },
     "user_tz": -600
    },
    "id": "qcKeJoVHuwWE",
    "outputId": "7f5b68eb-a7b4-4a18-e4b9-5ffb83079c66"
   },
   "outputs": [
    {
     "name": "stdout",
     "output_type": "stream",
     "text": [
      "('Validation Starts', 'Mon May  7 00:16:03 2018')\n",
      "('Validation ends', 'Mon May  7 00:16:18 2018')\n"
     ]
    }
   ],
   "source": [
    "print (\"Validation Starts\" ,ctime())\n",
    "preds = predict(df_validation_array)\n",
    "print (\"Validation ends\" ,ctime())"
   ]
  },
  {
   "cell_type": "markdown",
   "metadata": {
    "colab_type": "text",
    "id": "CFOrjCJEF8un"
   },
   "source": [
    "### Time = ~15 seconds"
   ]
  },
  {
   "cell_type": "code",
   "execution_count": 0,
   "metadata": {
    "colab": {
     "autoexec": {
      "startup": false,
      "wait_interval": 0
     }
    },
    "colab_type": "code",
    "id": "gIOSIApu4Lc_"
   },
   "outputs": [],
   "source": [
    "y = y_val.reshape(y_val.shape[0], 1)\n",
    "preds = preds.reshape(preds.shape[0],1)"
   ]
  },
  {
   "cell_type": "code",
   "execution_count": 0,
   "metadata": {
    "colab": {
     "autoexec": {
      "startup": false,
      "wait_interval": 0
     }
    },
    "colab_type": "code",
    "id": "jujbshjZO1YB"
   },
   "outputs": [],
   "source": [
    "results = np.concatenate((preds, y), axis = 1)\n",
    "results = results.astype(int)"
   ]
  },
  {
   "cell_type": "markdown",
   "metadata": {
    "colab_type": "text",
    "id": "ev9zV335hv0m"
   },
   "source": [
    "## C. Experiments and Results (max 500 words)"
   ]
  },
  {
   "cell_type": "markdown",
   "metadata": {
    "colab_type": "text",
    "id": "hWFnjiN2iG1M"
   },
   "source": [
    "### Accuracy"
   ]
  },
  {
   "cell_type": "markdown",
   "metadata": {
    "colab_type": "text",
    "id": "2ggc68nniKM8"
   },
   "source": [
    "The accuracy of the classfier for the for validation set is 58.47%. This is a significant improvement over a naive model which always assumes the most popular label. "
   ]
  },
  {
   "cell_type": "code",
   "execution_count": 26,
   "metadata": {
    "colab": {
     "autoexec": {
      "startup": false,
      "wait_interval": 0
     },
     "base_uri": "https://localhost:8080/",
     "height": 34
    },
    "colab_type": "code",
    "executionInfo": {
     "elapsed": 698,
     "status": "ok",
     "timestamp": 1525652186804,
     "user": {
      "displayName": "Aaquib Ladiwala",
      "photoUrl": "//lh4.googleusercontent.com/-W2UYInAok8M/AAAAAAAAAAI/AAAAAAAAAV8/TEt3FA9T4B0/s50-c-k-no/photo.jpg",
      "userId": "114107665292824214538"
     },
     "user_tz": -600
    },
    "id": "Ht6RRwqrnzfD",
    "outputId": "0f971c6a-ea4a-4235-ce58-19fecac2b380"
   },
   "outputs": [
    {
     "data": {
      "text/plain": [
       "58.47"
      ]
     },
     "execution_count": 26,
     "metadata": {
      "tags": []
     },
     "output_type": "execute_result"
    }
   ],
   "source": [
    "np.round((np.sum(preds == y)/round(preds.shape[0]))*100,2)"
   ]
  },
  {
   "cell_type": "code",
   "execution_count": 27,
   "metadata": {
    "colab": {
     "autoexec": {
      "startup": false,
      "wait_interval": 0
     },
     "base_uri": "https://localhost:8080/",
     "height": 1108
    },
    "colab_type": "code",
    "executionInfo": {
     "elapsed": 3741,
     "status": "ok",
     "timestamp": 1525652192091,
     "user": {
      "displayName": "Aaquib Ladiwala",
      "photoUrl": "//lh4.googleusercontent.com/-W2UYInAok8M/AAAAAAAAAAI/AAAAAAAAAV8/TEt3FA9T4B0/s50-c-k-no/photo.jpg",
      "userId": "114107665292824214538"
     },
     "user_tz": -600
    },
    "id": "Ly0I30PriU-s",
    "outputId": "1ae19357-99c5-4db8-d55e-3d9cba11fb4d"
   },
   "outputs": [
    {
     "name": "stdout",
     "output_type": "stream",
     "text": [
      "╒═════════════════════════╤═══════════════════╤══════════════╤══════════════════════════╤═════════════════════════╤══════════════════════════╤═════════════════════╤════════════════╤═══════════════════════╤═════════════╤════════════════════════╤═════════════════╤══════════════════════════╤═══════════════════════╤══════════════╤═══════════════╤══════════════╤════════════════════════╤═════════════════════╤════════════════════╤═══════════════════════════╤══════════════╤═══════════════════════╤══════════════╤════════════════════════╤════════════════╤══════════════════════╤═══════════════╤═════════════════╤═══════════════╤════════════════════╕\n",
      "│                         │   ['Photography'] │   ['Social'] │   ['Libraries and Demo'] │   ['Arcade and Action'] │   ['Health and Fitness'] │   ['Communication'] │   ['Shopping'] │   ['Music and Audio'] │   ['Tools'] │   ['Brain and Puzzle'] │   ['Education'] │   ['News and Magazines'] │   ['Personalization'] │   ['Racing'] │   ['Medical'] │   ['Casual'] │   ['Travel and Local'] │   ['Entertainment'] │   ['Productivity'] │   ['Books and Reference'] │   ['Comics'] │   ['Media and Video'] │   ['Sports'] │   ['Cards and Casino'] │   ['Business'] │   ['Transportation'] │   ['Finance'] │   ['Lifestyle'] │   ['Weather'] │   ['Sports Games'] │\n",
      "╞═════════════════════════╪═══════════════════╪══════════════╪══════════════════════════╪═════════════════════════╪══════════════════════════╪═════════════════════╪════════════════╪═══════════════════════╪═════════════╪════════════════════════╪═════════════════╪══════════════════════════╪═══════════════════════╪══════════════╪═══════════════╪══════════════╪════════════════════════╪═════════════════════╪════════════════════╪═══════════════════════════╪══════════════╪═══════════════════════╪══════════════╪════════════════════════╪════════════════╪══════════════════════╪═══════════════╪═════════════════╪═══════════════╪════════════════════╡\n",
      "│ ['Photography']         │               246 │            9 │                        3 │                       0 │                        0 │                   4 │              1 │                     0 │           6 │                      0 │               4 │                        2 │                    12 │            2 │             0 │            5 │                      0 │                  38 │                 11 │                         1 │            8 │                    20 │            1 │                      0 │              3 │                    0 │             0 │               9 │             1 │                  0 │\n",
      "├─────────────────────────┼───────────────────┼──────────────┼──────────────────────────┼─────────────────────────┼──────────────────────────┼─────────────────────┼────────────────┼───────────────────────┼─────────────┼────────────────────────┼─────────────────┼──────────────────────────┼───────────────────────┼──────────────┼───────────────┼──────────────┼────────────────────────┼─────────────────────┼────────────────────┼───────────────────────────┼──────────────┼───────────────────────┼──────────────┼────────────────────────┼────────────────┼──────────────────────┼───────────────┼─────────────────┼───────────────┼────────────────────┤\n",
      "│ ['Social']              │                12 │          165 │                        1 │                       0 │                        6 │                  38 │              5 │                     0 │           3 │                      0 │               1 │                        3 │                     1 │            0 │             5 │            2 │                      4 │                   8 │                 14 │                         2 │            5 │                     3 │            1 │                      1 │              6 │                    3 │             4 │              19 │             2 │                  0 │\n",
      "├─────────────────────────┼───────────────────┼──────────────┼──────────────────────────┼─────────────────────────┼──────────────────────────┼─────────────────────┼────────────────┼───────────────────────┼─────────────┼────────────────────────┼─────────────────┼──────────────────────────┼───────────────────────┼──────────────┼───────────────┼──────────────┼────────────────────────┼─────────────────────┼────────────────────┼───────────────────────────┼──────────────┼───────────────────────┼──────────────┼────────────────────────┼────────────────┼──────────────────────┼───────────────┼─────────────────┼───────────────┼────────────────────┤\n",
      "│ ['Libraries and Demo']  │                 0 │            0 │                        9 │                       0 │                        0 │                   0 │              0 │                     0 │           2 │                      0 │               1 │                        0 │                     1 │            0 │             0 │            1 │                      0 │                   0 │                  0 │                         0 │            0 │                     0 │            0 │                      0 │              0 │                    0 │             0 │               1 │             0 │                  0 │\n",
      "├─────────────────────────┼───────────────────┼──────────────┼──────────────────────────┼─────────────────────────┼──────────────────────────┼─────────────────────┼────────────────┼───────────────────────┼─────────────┼────────────────────────┼─────────────────┼──────────────────────────┼───────────────────────┼──────────────┼───────────────┼──────────────┼────────────────────────┼─────────────────────┼────────────────────┼───────────────────────────┼──────────────┼───────────────────────┼──────────────┼────────────────────────┼────────────────┼──────────────────────┼───────────────┼─────────────────┼───────────────┼────────────────────┤\n",
      "│ ['Arcade and Action']   │                 0 │            0 │                        0 │                     206 │                        0 │                   0 │              0 │                     0 │           0 │                     31 │               0 │                        0 │                     2 │           35 │             0 │           34 │                      0 │                   8 │                  0 │                         2 │            5 │                     0 │            1 │                      4 │              0 │                    0 │             0 │               0 │             0 │                 18 │\n",
      "├─────────────────────────┼───────────────────┼──────────────┼──────────────────────────┼─────────────────────────┼──────────────────────────┼─────────────────────┼────────────────┼───────────────────────┼─────────────┼────────────────────────┼─────────────────┼──────────────────────────┼───────────────────────┼──────────────┼───────────────┼──────────────┼────────────────────────┼─────────────────────┼────────────────────┼───────────────────────────┼──────────────┼───────────────────────┼──────────────┼────────────────────────┼────────────────┼──────────────────────┼───────────────┼─────────────────┼───────────────┼────────────────────┤\n",
      "│ ['Health and Fitness']  │                 0 │            0 │                        1 │                       0 │                      208 │                   0 │              1 │                     3 │           2 │                      0 │               1 │                        0 │                     0 │            1 │            26 │            1 │                      0 │                   1 │                  3 │                         4 │            0 │                     1 │            7 │                      0 │              2 │                    1 │             0 │               8 │             0 │                  0 │\n",
      "├─────────────────────────┼───────────────────┼──────────────┼──────────────────────────┼─────────────────────────┼──────────────────────────┼─────────────────────┼────────────────┼───────────────────────┼─────────────┼────────────────────────┼─────────────────┼──────────────────────────┼───────────────────────┼──────────────┼───────────────┼──────────────┼────────────────────────┼─────────────────────┼────────────────────┼───────────────────────────┼──────────────┼───────────────────────┼──────────────┼────────────────────────┼────────────────┼──────────────────────┼───────────────┼─────────────────┼───────────────┼────────────────────┤\n",
      "│ ['Communication']       │                 1 │           18 │                        6 │                       0 │                        1 │                 131 │              2 │                     3 │          20 │                      0 │               2 │                        1 │                     4 │            0 │             2 │            0 │                      3 │                   2 │                 19 │                         2 │            0 │                     3 │            0 │                      0 │             11 │                    0 │             1 │               3 │             0 │                  0 │\n",
      "├─────────────────────────┼───────────────────┼──────────────┼──────────────────────────┼─────────────────────────┼──────────────────────────┼─────────────────────┼────────────────┼───────────────────────┼─────────────┼────────────────────────┼─────────────────┼──────────────────────────┼───────────────────────┼──────────────┼───────────────┼──────────────┼────────────────────────┼─────────────────────┼────────────────────┼───────────────────────────┼──────────────┼───────────────────────┼──────────────┼────────────────────────┼────────────────┼──────────────────────┼───────────────┼─────────────────┼───────────────┼────────────────────┤\n",
      "│ ['Shopping']            │                 2 │            3 │                        0 │                       0 │                        4 │                   1 │            206 │                     0 │           2 │                      0 │               0 │                        0 │                     0 │            1 │             3 │            0 │                      7 │                   2 │                  7 │                         1 │            0 │                     0 │            0 │                      0 │             27 │                    2 │             5 │              45 │             1 │                  1 │\n",
      "├─────────────────────────┼───────────────────┼──────────────┼──────────────────────────┼─────────────────────────┼──────────────────────────┼─────────────────────┼────────────────┼───────────────────────┼─────────────┼────────────────────────┼─────────────────┼──────────────────────────┼───────────────────────┼──────────────┼───────────────┼──────────────┼────────────────────────┼─────────────────────┼────────────────────┼───────────────────────────┼──────────────┼───────────────────────┼──────────────┼────────────────────────┼────────────────┼──────────────────────┼───────────────┼─────────────────┼───────────────┼────────────────────┤\n",
      "│ ['Music and Audio']     │                 0 │            2 │                        2 │                       0 │                        7 │                   1 │              0 │                   206 │           3 │                      0 │               4 │                        3 │                     7 │            1 │             4 │            5 │                      0 │                  13 │                  5 │                         3 │            1 │                    14 │            0 │                      0 │              3 │                    1 │             0 │              13 │             0 │                  2 │\n",
      "├─────────────────────────┼───────────────────┼──────────────┼──────────────────────────┼─────────────────────────┼──────────────────────────┼─────────────────────┼────────────────┼───────────────────────┼─────────────┼────────────────────────┼─────────────────┼──────────────────────────┼───────────────────────┼──────────────┼───────────────┼──────────────┼────────────────────────┼─────────────────────┼────────────────────┼───────────────────────────┼──────────────┼───────────────────────┼──────────────┼────────────────────────┼────────────────┼──────────────────────┼───────────────┼─────────────────┼───────────────┼────────────────────┤\n",
      "│ ['Tools']               │                 9 │            3 │                        8 │                       1 │                        9 │                  29 │              5 │                    15 │         120 │                      1 │               3 │                        2 │                     6 │            0 │             0 │            0 │                     10 │                  10 │                 51 │                         3 │            5 │                    11 │            0 │                      1 │              9 │                   13 │             7 │               5 │             5 │                  1 │\n",
      "├─────────────────────────┼───────────────────┼──────────────┼──────────────────────────┼─────────────────────────┼──────────────────────────┼─────────────────────┼────────────────┼───────────────────────┼─────────────┼────────────────────────┼─────────────────┼──────────────────────────┼───────────────────────┼──────────────┼───────────────┼──────────────┼────────────────────────┼─────────────────────┼────────────────────┼───────────────────────────┼──────────────┼───────────────────────┼──────────────┼────────────────────────┼────────────────┼──────────────────────┼───────────────┼─────────────────┼───────────────┼────────────────────┤\n",
      "│ ['Brain and Puzzle']    │                 1 │            1 │                        2 │                      32 │                        0 │                   0 │              0 │                     1 │           1 │                    209 │              15 │                        0 │                     0 │           11 │             1 │           65 │                      2 │                   3 │                  0 │                         2 │            0 │                     1 │            2 │                     14 │              1 │                    0 │             0 │               0 │             0 │                 13 │\n",
      "├─────────────────────────┼───────────────────┼──────────────┼──────────────────────────┼─────────────────────────┼──────────────────────────┼─────────────────────┼────────────────┼───────────────────────┼─────────────┼────────────────────────┼─────────────────┼──────────────────────────┼───────────────────────┼──────────────┼───────────────┼──────────────┼────────────────────────┼─────────────────────┼────────────────────┼───────────────────────────┼──────────────┼───────────────────────┼──────────────┼────────────────────────┼────────────────┼──────────────────────┼───────────────┼─────────────────┼───────────────┼────────────────────┤\n",
      "│ ['Education']           │                 0 │            5 │                        1 │                       0 │                        1 │                   0 │              0 │                     9 │           1 │                     24 │             177 │                        0 │                     0 │            0 │             4 │            9 │                      5 │                   6 │                  1 │                        28 │            1 │                     2 │            3 │                      1 │              9 │                    0 │             1 │               5 │             0 │                  0 │\n",
      "├─────────────────────────┼───────────────────┼──────────────┼──────────────────────────┼─────────────────────────┼──────────────────────────┼─────────────────────┼────────────────┼───────────────────────┼─────────────┼────────────────────────┼─────────────────┼──────────────────────────┼───────────────────────┼──────────────┼───────────────┼──────────────┼────────────────────────┼─────────────────────┼────────────────────┼───────────────────────────┼──────────────┼───────────────────────┼──────────────┼────────────────────────┼────────────────┼──────────────────────┼───────────────┼─────────────────┼───────────────┼────────────────────┤\n",
      "│ ['News and Magazines']  │                 0 │            6 │                        0 │                       0 │                        1 │                   1 │              1 │                     5 │           3 │                      1 │               7 │                      188 │                     0 │            0 │             7 │            0 │                      3 │                   5 │                  1 │                         1 │            1 │                     4 │            8 │                      0 │             13 │                    1 │             6 │               4 │            10 │                  0 │\n",
      "├─────────────────────────┼───────────────────┼──────────────┼──────────────────────────┼─────────────────────────┼──────────────────────────┼─────────────────────┼────────────────┼───────────────────────┼─────────────┼────────────────────────┼─────────────────┼──────────────────────────┼───────────────────────┼──────────────┼───────────────┼──────────────┼────────────────────────┼─────────────────────┼────────────────────┼───────────────────────────┼──────────────┼───────────────────────┼──────────────┼────────────────────────┼────────────────┼──────────────────────┼───────────────┼─────────────────┼───────────────┼────────────────────┤\n",
      "│ ['Personalization']     │                 6 │            0 │                       10 │                       3 │                        0 │                  21 │              0 │                     8 │          25 │                      0 │               0 │                        0 │                   253 │            6 │             2 │            6 │                      1 │                  18 │                 21 │                         2 │           28 │                     2 │            9 │                      0 │              1 │                    1 │             2 │              13 │            15 │                  1 │\n",
      "├─────────────────────────┼───────────────────┼──────────────┼──────────────────────────┼─────────────────────────┼──────────────────────────┼─────────────────────┼────────────────┼───────────────────────┼─────────────┼────────────────────────┼─────────────────┼──────────────────────────┼───────────────────────┼──────────────┼───────────────┼──────────────┼────────────────────────┼─────────────────────┼────────────────────┼───────────────────────────┼──────────────┼───────────────────────┼──────────────┼────────────────────────┼────────────────┼──────────────────────┼───────────────┼─────────────────┼───────────────┼────────────────────┤\n",
      "│ ['Racing']              │                 0 │            0 │                        0 │                      21 │                        0 │                   0 │              0 │                     0 │           0 │                      8 │               0 │                        0 │                     0 │          221 │             0 │           13 │                      0 │                   0 │                  0 │                         0 │            0 │                     0 │            0 │                      1 │              0 │                    1 │             0 │               0 │             0 │                  9 │\n",
      "├─────────────────────────┼───────────────────┼──────────────┼──────────────────────────┼─────────────────────────┼──────────────────────────┼─────────────────────┼────────────────┼───────────────────────┼─────────────┼────────────────────────┼─────────────────┼──────────────────────────┼───────────────────────┼──────────────┼───────────────┼──────────────┼────────────────────────┼─────────────────────┼────────────────────┼───────────────────────────┼──────────────┼───────────────────────┼──────────────┼────────────────────────┼────────────────┼──────────────────────┼───────────────┼─────────────────┼───────────────┼────────────────────┤\n",
      "│ ['Medical']             │                 1 │            1 │                        3 │                       0 │                       41 │                   1 │              1 │                     0 │           0 │                      1 │              17 │                        0 │                     0 │            0 │           224 │            0 │                      0 │                   1 │                  1 │                        13 │            0 │                     0 │            1 │                      0 │              6 │                    1 │             2 │               3 │             2 │                  0 │\n",
      "├─────────────────────────┼───────────────────┼──────────────┼──────────────────────────┼─────────────────────────┼──────────────────────────┼─────────────────────┼────────────────┼───────────────────────┼─────────────┼────────────────────────┼─────────────────┼──────────────────────────┼───────────────────────┼──────────────┼───────────────┼──────────────┼────────────────────────┼─────────────────────┼────────────────────┼───────────────────────────┼──────────────┼───────────────────────┼──────────────┼────────────────────────┼────────────────┼──────────────────────┼───────────────┼─────────────────┼───────────────┼────────────────────┤\n",
      "│ ['Casual']              │                 3 │            1 │                        1 │                      29 │                        1 │                   0 │              1 │                     1 │           0 │                     17 │               9 │                        0 │                     1 │            4 │             0 │          138 │                      0 │                  10 │                  0 │                         2 │            2 │                     1 │            0 │                      6 │              1 │                    0 │             0 │               3 │             0 │                  2 │\n",
      "├─────────────────────────┼───────────────────┼──────────────┼──────────────────────────┼─────────────────────────┼──────────────────────────┼─────────────────────┼────────────────┼───────────────────────┼─────────────┼────────────────────────┼─────────────────┼──────────────────────────┼───────────────────────┼──────────────┼───────────────┼──────────────┼────────────────────────┼─────────────────────┼────────────────────┼───────────────────────────┼──────────────┼───────────────────────┼──────────────┼────────────────────────┼────────────────┼──────────────────────┼───────────────┼─────────────────┼───────────────┼────────────────────┤\n",
      "│ ['Travel and Local']    │                 1 │            2 │                        0 │                       0 │                        2 │                   3 │              4 │                     0 │           0 │                      0 │               3 │                        1 │                     0 │            0 │             0 │            0 │                    156 │                   1 │                  2 │                         1 │            0 │                     0 │            3 │                      0 │              5 │                   26 │             3 │               7 │             3 │                  0 │\n",
      "├─────────────────────────┼───────────────────┼──────────────┼──────────────────────────┼─────────────────────────┼──────────────────────────┼─────────────────────┼────────────────┼───────────────────────┼─────────────┼────────────────────────┼─────────────────┼──────────────────────────┼───────────────────────┼──────────────┼───────────────┼──────────────┼────────────────────────┼─────────────────────┼────────────────────┼───────────────────────────┼──────────────┼───────────────────────┼──────────────┼────────────────────────┼────────────────┼──────────────────────┼───────────────┼─────────────────┼───────────────┼────────────────────┤\n",
      "│ ['Entertainment']       │                23 │           22 │                       14 │                       2 │                        3 │                  12 │              4 │                    22 │          14 │                      9 │              21 │                       14 │                    14 │            8 │             4 │           22 │                      4 │                 108 │                  9 │                        21 │           27 │                    33 │           11 │                      8 │             12 │                    6 │             3 │              26 │             5 │                  6 │\n",
      "├─────────────────────────┼───────────────────┼──────────────┼──────────────────────────┼─────────────────────────┼──────────────────────────┼─────────────────────┼────────────────┼───────────────────────┼─────────────┼────────────────────────┼─────────────────┼──────────────────────────┼───────────────────────┼──────────────┼───────────────┼──────────────┼────────────────────────┼─────────────────────┼────────────────────┼───────────────────────────┼──────────────┼───────────────────────┼──────────────┼────────────────────────┼────────────────┼──────────────────────┼───────────────┼─────────────────┼───────────────┼────────────────────┤\n",
      "│ ['Productivity']        │                10 │            9 │                        3 │                       1 │                        6 │                  18 │              5 │                     4 │          28 │                      1 │               7 │                        4 │                     7 │            0 │             7 │            0 │                      2 │                   2 │                101 │                        10 │            4 │                     9 │            1 │                      3 │             32 │                    1 │             4 │              11 │             2 │                  1 │\n",
      "├─────────────────────────┼───────────────────┼──────────────┼──────────────────────────┼─────────────────────────┼──────────────────────────┼─────────────────────┼────────────────┼───────────────────────┼─────────────┼────────────────────────┼─────────────────┼──────────────────────────┼───────────────────────┼──────────────┼───────────────┼──────────────┼────────────────────────┼─────────────────────┼────────────────────┼───────────────────────────┼──────────────┼───────────────────────┼──────────────┼────────────────────────┼────────────────┼──────────────────────┼───────────────┼─────────────────┼───────────────┼────────────────────┤\n",
      "│ ['Books and Reference'] │                 1 │            7 │                        7 │                       0 │                        7 │                   2 │              3 │                     6 │           6 │                      0 │              44 │                        7 │                     0 │            0 │             4 │            0 │                      7 │                   2 │                  5 │                       162 │            7 │                     1 │            1 │                      0 │              9 │                    1 │             2 │              24 │             0 │                  0 │\n",
      "├─────────────────────────┼───────────────────┼──────────────┼──────────────────────────┼─────────────────────────┼──────────────────────────┼─────────────────────┼────────────────┼───────────────────────┼─────────────┼────────────────────────┼─────────────────┼──────────────────────────┼───────────────────────┼──────────────┼───────────────┼──────────────┼────────────────────────┼─────────────────────┼────────────────────┼───────────────────────────┼──────────────┼───────────────────────┼──────────────┼────────────────────────┼────────────────┼──────────────────────┼───────────────┼─────────────────┼───────────────┼────────────────────┤\n",
      "│ ['Comics']              │                 1 │            0 │                        0 │                       0 │                        0 │                   0 │              0 │                     1 │           0 │                      0 │               0 │                        0 │                     0 │            0 │             0 │            1 │                      0 │                   5 │                  0 │                         4 │           28 │                     0 │            0 │                      0 │              0 │                    0 │             0 │               0 │             0 │                  0 │\n",
      "├─────────────────────────┼───────────────────┼──────────────┼──────────────────────────┼─────────────────────────┼──────────────────────────┼─────────────────────┼────────────────┼───────────────────────┼─────────────┼────────────────────────┼─────────────────┼──────────────────────────┼───────────────────────┼──────────────┼───────────────┼──────────────┼────────────────────────┼─────────────────────┼────────────────────┼───────────────────────────┼──────────────┼───────────────────────┼──────────────┼────────────────────────┼────────────────┼──────────────────────┼───────────────┼─────────────────┼───────────────┼────────────────────┤\n",
      "│ ['Media and Video']     │                 5 │            3 │                        5 │                       3 │                        0 │                  10 │              1 │                    24 │          19 │                      1 │               2 │                        3 │                     0 │            0 │             0 │            0 │                      0 │                  41 │                 14 │                         1 │            5 │                   148 │            4 │                      1 │              9 │                    1 │             0 │               3 │             0 │                  0 │\n",
      "├─────────────────────────┼───────────────────┼──────────────┼──────────────────────────┼─────────────────────────┼──────────────────────────┼─────────────────────┼────────────────┼───────────────────────┼─────────────┼────────────────────────┼─────────────────┼──────────────────────────┼───────────────────────┼──────────────┼───────────────┼──────────────┼────────────────────────┼─────────────────────┼────────────────────┼───────────────────────────┼──────────────┼───────────────────────┼──────────────┼────────────────────────┼────────────────┼──────────────────────┼───────────────┼─────────────────┼───────────────┼────────────────────┤\n",
      "│ ['Sports']              │                 0 │            1 │                        0 │                       0 │                        2 │                   0 │              0 │                     1 │           1 │                      1 │               1 │                        6 │                     0 │            2 │             1 │            0 │                      1 │                   8 │                  0 │                         0 │            0 │                     0 │          168 │                      0 │              1 │                    0 │             1 │               1 │             0 │                  9 │\n",
      "├─────────────────────────┼───────────────────┼──────────────┼──────────────────────────┼─────────────────────────┼──────────────────────────┼─────────────────────┼────────────────┼───────────────────────┼─────────────┼────────────────────────┼─────────────────┼──────────────────────────┼───────────────────────┼──────────────┼───────────────┼──────────────┼────────────────────────┼─────────────────────┼────────────────────┼───────────────────────────┼──────────────┼───────────────────────┼──────────────┼────────────────────────┼────────────────┼──────────────────────┼───────────────┼─────────────────┼───────────────┼────────────────────┤\n",
      "│ ['Cards and Casino']    │                 0 │            0 │                        0 │                       5 │                        0 │                   0 │              1 │                     1 │           2 │                     13 │               0 │                        2 │                     0 │            3 │             1 │           12 │                      0 │                   4 │                  0 │                         0 │            0 │                     0 │            1 │                    257 │              0 │                    0 │             1 │               1 │             0 │                  8 │\n",
      "├─────────────────────────┼───────────────────┼──────────────┼──────────────────────────┼─────────────────────────┼──────────────────────────┼─────────────────────┼────────────────┼───────────────────────┼─────────────┼────────────────────────┼─────────────────┼──────────────────────────┼───────────────────────┼──────────────┼───────────────┼──────────────┼────────────────────────┼─────────────────────┼────────────────────┼───────────────────────────┼──────────────┼───────────────────────┼──────────────┼────────────────────────┼────────────────┼──────────────────────┼───────────────┼─────────────────┼───────────────┼────────────────────┤\n",
      "│ ['Business']            │                 2 │            5 │                        0 │                       1 │                        5 │                  17 │              5 │                     0 │           5 │                      1 │               6 │                        2 │                     0 │            0 │             4 │            0 │                      0 │                   1 │                 17 │                         7 │            0 │                     1 │            0 │                      0 │            108 │                    3 │            10 │               4 │             0 │                  0 │\n",
      "├─────────────────────────┼───────────────────┼──────────────┼──────────────────────────┼─────────────────────────┼──────────────────────────┼─────────────────────┼────────────────┼───────────────────────┼─────────────┼────────────────────────┼─────────────────┼──────────────────────────┼───────────────────────┼──────────────┼───────────────┼──────────────┼────────────────────────┼─────────────────────┼────────────────────┼───────────────────────────┼──────────────┼───────────────────────┼──────────────┼────────────────────────┼────────────────┼──────────────────────┼───────────────┼─────────────────┼───────────────┼────────────────────┤\n",
      "│ ['Transportation']      │                 2 │            0 │                        0 │                       0 │                        6 │                   3 │              6 │                     1 │           9 │                      0 │               4 │                        4 │                     1 │            0 │             0 │            0 │                     78 │                   1 │                  4 │                         4 │            0 │                     0 │            8 │                      0 │              8 │                  193 │             3 │               6 │            16 │                  0 │\n",
      "├─────────────────────────┼───────────────────┼──────────────┼──────────────────────────┼─────────────────────────┼──────────────────────────┼─────────────────────┼────────────────┼───────────────────────┼─────────────┼────────────────────────┼─────────────────┼──────────────────────────┼───────────────────────┼──────────────┼───────────────┼──────────────┼────────────────────────┼─────────────────────┼────────────────────┼───────────────────────────┼──────────────┼───────────────────────┼──────────────┼────────────────────────┼────────────────┼──────────────────────┼───────────────┼─────────────────┼───────────────┼────────────────────┤\n",
      "│ ['Finance']             │                 0 │            3 │                        1 │                       0 │                        6 │                   6 │              8 │                     0 │          10 │                      0 │               3 │                        1 │                     0 │            0 │             0 │            0 │                      8 │                   0 │                  6 │                         0 │            1 │                     0 │            1 │                      0 │             30 │                    7 │           241 │               4 │             0 │                  1 │\n",
      "├─────────────────────────┼───────────────────┼──────────────┼──────────────────────────┼─────────────────────────┼──────────────────────────┼─────────────────────┼────────────────┼───────────────────────┼─────────────┼────────────────────────┼─────────────────┼──────────────────────────┼───────────────────────┼──────────────┼───────────────┼──────────────┼────────────────────────┼─────────────────────┼────────────────────┼───────────────────────────┼──────────────┼───────────────────────┼──────────────┼────────────────────────┼────────────────┼──────────────────────┼───────────────┼─────────────────┼───────────────┼────────────────────┤\n",
      "│ ['Lifestyle']           │                 7 │           13 │                        3 │                       0 │                       14 │                   1 │             16 │                     4 │           4 │                      0 │               8 │                        7 │                     1 │            1 │             4 │            3 │                      5 │                  13 │                  4 │                        10 │            1 │                     5 │            5 │                      0 │              9 │                    6 │             4 │              43 │             6 │                  0 │\n",
      "├─────────────────────────┼───────────────────┼──────────────┼──────────────────────────┼─────────────────────────┼──────────────────────────┼─────────────────────┼────────────────┼───────────────────────┼─────────────┼────────────────────────┼─────────────────┼──────────────────────────┼───────────────────────┼──────────────┼───────────────┼──────────────┼────────────────────────┼─────────────────────┼────────────────────┼───────────────────────────┼──────────────┼───────────────────────┼──────────────┼────────────────────────┼────────────────┼──────────────────────┼───────────────┼─────────────────┼───────────────┼────────────────────┤\n",
      "│ ['Weather']             │                 0 │            0 │                        0 │                       0 │                        0 │                   0 │              0 │                     0 │           1 │                      0 │               1 │                        1 │                     0 │            0 │             0 │            0 │                      1 │                   1 │                  2 │                         0 │            0 │                     0 │            3 │                      0 │              0 │                    1 │             0 │               0 │           132 │                  0 │\n",
      "├─────────────────────────┼───────────────────┼──────────────┼──────────────────────────┼─────────────────────────┼──────────────────────────┼─────────────────────┼────────────────┼───────────────────────┼─────────────┼────────────────────────┼─────────────────┼──────────────────────────┼───────────────────────┼──────────────┼───────────────┼──────────────┼────────────────────────┼─────────────────────┼────────────────────┼───────────────────────────┼──────────────┼───────────────────────┼──────────────┼────────────────────────┼────────────────┼──────────────────────┼───────────────┼─────────────────┼───────────────┼────────────────────┤\n",
      "│ ['Sports Games']        │                 0 │            0 │                        0 │                      11 │                        1 │                   0 │              0 │                     0 │           0 │                      2 │               0 │                        0 │                     1 │            6 │             0 │            9 │                      2 │                   2 │                  0 │                         0 │            0 │                     0 │            1 │                      2 │              0 │                    0 │             0 │               1 │             0 │                117 │\n",
      "╘═════════════════════════╧═══════════════════╧══════════════╧══════════════════════════╧═════════════════════════╧══════════════════════════╧═════════════════════╧════════════════╧═══════════════════════╧═════════════╧════════════════════════╧═════════════════╧══════════════════════════╧═══════════════════════╧══════════════╧═══════════════╧══════════════╧════════════════════════╧═════════════════════╧════════════════════╧═══════════════════════════╧══════════════╧═══════════════════════╧══════════════╧════════════════════════╧════════════════╧══════════════════════╧═══════════════╧═════════════════╧═══════════════╧════════════════════╛\n"
     ]
    }
   ],
   "source": [
    "# getting the shape of confusion matrix from the number of classes\n",
    "uniqueClasses = np.unique(results)\n",
    "conf_matrix = np.zeros(shape=(uniqueClasses.size, uniqueClasses.size))\n",
    "\n",
    "# creating an emptry matrix for the confusion matrix\n",
    "rows = results.shape[0]\n",
    "for x in range(rows):\n",
    "  actual = results[x][0]\n",
    "  predicted = results[x][1]\n",
    "  conf_matrix[actual][predicted] += 1\n",
    "  \n",
    "# installing a library to better visualize the data\n",
    "!pip install -U -q tabulate\n",
    "from tabulate import tabulate\n",
    "\n",
    "# get headers\n",
    "table_labels = df_labels[['class']].drop_duplicates().values.tolist()\n",
    "headers = table_labels\n",
    "\n",
    "# tabulate data\n",
    "table = tabulate(conf_matrix, headers, showindex=headers, tablefmt=\"fancy_grid\")\n",
    "\n",
    "# output\n",
    "print(table)"
   ]
  },
  {
   "cell_type": "code",
   "execution_count": 28,
   "metadata": {
    "colab": {
     "autoexec": {
      "startup": false,
      "wait_interval": 0
     },
     "base_uri": "https://localhost:8080/",
     "height": 1088
    },
    "colab_type": "code",
    "executionInfo": {
     "elapsed": 694,
     "status": "ok",
     "timestamp": 1525652195315,
     "user": {
      "displayName": "Aaquib Ladiwala",
      "photoUrl": "//lh4.googleusercontent.com/-W2UYInAok8M/AAAAAAAAAAI/AAAAAAAAAV8/TEt3FA9T4B0/s50-c-k-no/photo.jpg",
      "userId": "114107665292824214538"
     },
     "user_tz": -600
    },
    "id": "-4V0zN4TnssQ",
    "outputId": "620bc9ba-65a3-4d6a-fd93-721ae3878002"
   },
   "outputs": [
    {
     "name": "stdout",
     "output_type": "stream",
     "text": [
      "╒═════════════════════════╤══════╤══════╤══════╤══════╤═════════════╤══════════╤════════════╤═══════════╕\n",
      "│                         │   TP │   TN │   FP │   FN │   Precision │   Recall │   Accuracy │   F-score │\n",
      "╞═════════════════════════╪══════╪══════╪══════╪══════╪═════════════╪══════════╪════════════╪═══════════╡\n",
      "│ ['Photography']         │  246 │ 7855 │   87 │  140 │    0.738739 │ 0.637306 │   0.972743 │  0.684284 │\n",
      "├─────────────────────────┼──────┼──────┼──────┼──────┼─────────────┼──────────┼────────────┼───────────┤\n",
      "│ ['Social']              │  165 │ 7900 │  114 │  149 │    0.591398 │ 0.525478 │   0.96842  │  0.556492 │\n",
      "├─────────────────────────┼──────┼──────┼──────┼──────┼─────────────┼──────────┼────────────┼───────────┤\n",
      "│ ['Libraries and Demo']  │    9 │ 8242 │   71 │    6 │    0.1125   │ 0.6      │   0.990754 │  0.189474 │\n",
      "├─────────────────────────┼──────┼──────┼──────┼──────┼─────────────┼──────────┼────────────┼───────────┤\n",
      "│ ['Arcade and Action']   │  206 │ 7873 │  109 │  140 │    0.653968 │ 0.595376 │   0.970101 │  0.623298 │\n",
      "├─────────────────────────┼──────┼──────┼──────┼──────┼─────────────┼──────────┼────────────┼───────────┤\n",
      "│ ['Health and Fitness']  │  208 │ 7934 │  123 │   63 │    0.628399 │ 0.767528 │   0.977666 │  0.69103  │\n",
      "├─────────────────────────┼──────┼──────┼──────┼──────┼─────────────┼──────────┼────────────┼───────────┤\n",
      "│ ['Communication']       │  131 │ 7925 │  168 │  104 │    0.438127 │ 0.557447 │   0.967339 │  0.490637 │\n",
      "├─────────────────────────┼──────┼──────┼──────┼──────┼─────────────┼──────────┼────────────┼───────────┤\n",
      "│ ['Shopping']            │  206 │ 7938 │   70 │  114 │    0.746377 │ 0.64375  │   0.977906 │  0.691275 │\n",
      "├─────────────────────────┼──────┼──────┼──────┼──────┼─────────────┼──────────┼────────────┼───────────┤\n",
      "│ ['Music and Audio']     │  206 │ 7919 │  109 │   94 │    0.653968 │ 0.686667 │   0.975624 │  0.669919 │\n",
      "├─────────────────────────┼──────┼──────┼──────┼──────┼─────────────┼──────────┼────────────┼───────────┤\n",
      "│ ['Tools']               │  120 │ 7819 │  167 │  222 │    0.418118 │ 0.350877 │   0.95329  │  0.381558 │\n",
      "├─────────────────────────┼──────┼──────┼──────┼──────┼─────────────┼──────────┼────────────┼───────────┤\n",
      "│ ['Brain and Puzzle']    │  209 │ 7840 │  111 │  168 │    0.653125 │ 0.554377 │   0.966499 │  0.599713 │\n",
      "├─────────────────────────┼──────┼──────┼──────┼──────┼─────────────┼──────────┼────────────┼───────────┤\n",
      "│ ['Education']           │  177 │ 7871 │  164 │  116 │    0.519062 │ 0.604096 │   0.966378 │  0.55836  │\n",
      "├─────────────────────────┼──────┼──────┼──────┼──────┼─────────────┼──────────┼────────────┼───────────┤\n",
      "│ ['News and Magazines']  │  188 │ 7988 │   63 │   89 │    0.749004 │ 0.6787   │   0.981748 │  0.712121 │\n",
      "├─────────────────────────┼──────┼──────┼──────┼──────┼─────────────┼──────────┼────────────┼───────────┤\n",
      "│ ['Personalization']     │  253 │ 7816 │   58 │  201 │    0.813505 │ 0.557269 │   0.9689   │  0.661438 │\n",
      "├─────────────────────────┼──────┼──────┼──────┼──────┼─────────────┼──────────┼────────────┼───────────┤\n",
      "│ ['Racing']              │  221 │ 7973 │   81 │   53 │    0.731788 │ 0.806569 │   0.98391  │  0.767361 │\n",
      "├─────────────────────────┼──────┼──────┼──────┼──────┼─────────────┼──────────┼────────────┼───────────┤\n",
      "│ ['Medical']             │  224 │ 7929 │   79 │   96 │    0.739274 │ 0.7      │   0.978987 │  0.719101 │\n",
      "├─────────────────────────┼──────┼──────┼──────┼──────┼─────────────┼──────────┼────────────┼───────────┤\n",
      "│ ['Casual']              │  138 │ 7907 │  188 │   95 │    0.423313 │ 0.592275 │   0.966018 │  0.493739 │\n",
      "├─────────────────────────┼──────┼──────┼──────┼──────┼─────────────┼──────────┼────────────┼───────────┤\n",
      "│ ['Travel and Local']    │  156 │ 7962 │  143 │   67 │    0.521739 │ 0.699552 │   0.974784 │  0.597701 │\n",
      "├─────────────────────────┼──────┼──────┼──────┼──────┼─────────────┼──────────┼────────────┼───────────┤\n",
      "│ ['Entertainment']       │  108 │ 7635 │  206 │  379 │    0.343949 │ 0.221766 │   0.929755 │  0.269663 │\n",
      "├─────────────────────────┼──────┼──────┼──────┼──────┼─────────────┼──────────┼────────────┼───────────┤\n",
      "│ ['Productivity']        │  101 │ 7838 │  197 │  192 │    0.338926 │ 0.34471  │   0.95329  │  0.341794 │\n",
      "├─────────────────────────┼──────┼──────┼──────┼──────┼─────────────┼──────────┼────────────┼───────────┤\n",
      "│ ['Books and Reference'] │  162 │ 7889 │  124 │  153 │    0.566434 │ 0.514286 │   0.966739 │  0.539101 │\n",
      "├─────────────────────────┼──────┼──────┼──────┼──────┼─────────────┼──────────┼────────────┼───────────┤\n",
      "│ ['Comics']              │   28 │ 8187 │  101 │   12 │    0.217054 │ 0.7      │   0.986431 │  0.331361 │\n",
      "├─────────────────────────┼──────┼──────┼──────┼──────┼─────────────┼──────────┼────────────┼───────────┤\n",
      "│ ['Media and Video']     │  148 │ 7914 │  111 │  155 │    0.571429 │ 0.488449 │   0.96806  │  0.52669  │\n",
      "├─────────────────────────┼──────┼──────┼──────┼──────┼─────────────┼──────────┼────────────┼───────────┤\n",
      "│ ['Sports']              │  168 │ 8051 │   72 │   37 │    0.7      │ 0.819512 │   0.986912 │  0.755056 │\n",
      "├─────────────────────────┼──────┼──────┼──────┼──────┼─────────────┼──────────┼────────────┼───────────┤\n",
      "│ ['Cards and Casino']    │  257 │ 7974 │   42 │   55 │    0.859532 │ 0.823718 │   0.988353 │  0.841244 │\n",
      "├─────────────────────────┼──────┼──────┼──────┼──────┼─────────────┼──────────┼────────────┼───────────┤\n",
      "│ ['Business']            │  108 │ 7917 │  207 │   96 │    0.342857 │ 0.529412 │   0.963617 │  0.416185 │\n",
      "├─────────────────────────┼──────┼──────┼──────┼──────┼─────────────┼──────────┼────────────┼───────────┤\n",
      "│ ['Transportation']      │  193 │ 7895 │   76 │  164 │    0.717472 │ 0.540616 │   0.971182 │  0.616613 │\n",
      "├─────────────────────────┼──────┼──────┼──────┼──────┼─────────────┼──────────┼────────────┼───────────┤\n",
      "│ ['Finance']             │  241 │ 7932 │   59 │   96 │    0.803333 │ 0.715134 │   0.981388 │  0.756672 │\n",
      "├─────────────────────────┼──────┼──────┼──────┼──────┼─────────────┼──────────┼────────────┼───────────┤\n",
      "│ ['Lifestyle']           │   43 │ 7912 │  219 │  154 │    0.164122 │ 0.218274 │   0.955211 │  0.187364 │\n",
      "├─────────────────────────┼──────┼──────┼──────┼──────┼─────────────┼──────────┼────────────┼───────────┤\n",
      "│ ['Weather']             │  132 │ 8117 │   68 │   11 │    0.66     │ 0.923077 │   0.990514 │  0.769679 │\n",
      "├─────────────────────────┼──────┼──────┼──────┼──────┼─────────────┼──────────┼────────────┼───────────┤\n",
      "│ ['Sports Games']        │  117 │ 8101 │   72 │   38 │    0.619048 │ 0.754839 │   0.986792 │  0.680233 │\n",
      "╘═════════════════════════╧══════╧══════╧══════╧══════╧═════════════╧══════════╧════════════╧═══════════╛\n"
     ]
    }
   ],
   "source": [
    "TP_TN_FP_FN_ = np.zeros(shape=(conf_matrix.shape[0], 8)) # extra 4 cols for precision, recall, acc and f score\n",
    "\n",
    "TP = conf_matrix.diagonal()\n",
    "TP_TN_FP_FN_[:,0] = TP\n",
    "\n",
    "sum_ = conf_matrix.sum() \n",
    "for x in range(TP_TN_FP_FN_.shape[0]):\n",
    "  TP_TN_FP_FN_[x][2] = conf_matrix[:,x].sum() - TP_TN_FP_FN_[x][0] #false positive\n",
    "  TP_TN_FP_FN_[x][3] = conf_matrix[x].sum() - TP_TN_FP_FN_[x][0] #false negative\n",
    "\n",
    "for x in range(TP_TN_FP_FN_.shape[0]):\n",
    "  TP_TN_FP_FN_[x][1] = sum_ - TP_TN_FP_FN_[x][0] - TP_TN_FP_FN_[x][2] - TP_TN_FP_FN_[x][3] #true negative\n",
    "  \n",
    "# precision tp/(tp+fp)\n",
    "for x in range(TP_TN_FP_FN_.shape[0]):\n",
    "  TP_TN_FP_FN_[x][4] = TP_TN_FP_FN_[x][0] / (TP_TN_FP_FN_[x][0] + TP_TN_FP_FN_[x][2])\n",
    "\n",
    "# recall tp/(tp+fn)\n",
    "for x in range(TP_TN_FP_FN_.shape[0]):\n",
    "  TP_TN_FP_FN_[x][5] = TP_TN_FP_FN_[x][0] / (TP_TN_FP_FN_[x][0] + TP_TN_FP_FN_[x][3])\n",
    "\n",
    "# accuracy = (tp+tn)/(tp+fn+fp+tn)\n",
    "for x in range(TP_TN_FP_FN_.shape[0]):\n",
    "  TP_TN_FP_FN_[x][6] = (TP_TN_FP_FN_[x][0] + TP_TN_FP_FN_[x][1]) / sum_\n",
    "\n",
    "# f_measure = 2 * tp / (2 * tp + fn + fp) or 2 / ((1/precision) + (1/recall))\n",
    "for x in range(TP_TN_FP_FN_.shape[0]):\n",
    "#   TP_TN_FP_FN_[x][7] = 2 * TP_TN_FP_FN_[x][0] / (2 * TP_TN_FP_FN_[x][0] + TP_TN_FP_FN_[x][3] + TP_TN_FP_FN_[x][2]) #same\n",
    "  TP_TN_FP_FN_[x][7] = 2 / ((1/TP_TN_FP_FN_[x][4]) + (1/TP_TN_FP_FN_[x][5]))\n",
    "\n",
    "  \n",
    "headers = [\"TP\", \"TN\", \"FP\", \"FN\", \"Precision\", \"Recall\", \"Accuracy\", \"F-score\"]\n",
    "truthtable = tabulate(TP_TN_FP_FN_, headers, showindex=table_labels, tablefmt=\"fancy_grid\")\n",
    "\n",
    "# output\n",
    "print(truthtable)\n",
    "# print(\"TP_TN_FP_FN_\\n\", TP_TN_FP_FN_)"
   ]
  },
  {
   "cell_type": "markdown",
   "metadata": {
    "colab_type": "text",
    "id": "y_xa-3K1iUS_"
   },
   "source": [
    "### Extensive Analysis\n",
    "\n"
   ]
  },
  {
   "cell_type": "markdown",
   "metadata": {
    "colab_type": "text",
    "id": "avGE-c9zieOc"
   },
   "source": [
    "From the confusion matrix charted below(actual class on y-axis, prediction on x-axis), it can be observed the classifier is generally able to catch the trend of the data. However, we can there are some classes where the classifier is able to predict more accurately than the other comparing their respective f-score. Classes like 'News and Magazines', 'Racing', 'Cards and Casino' are some of the classes where the classifier maintains more than 0.70 f-score. The observation that can be made here on this context is that these classes have unique keywords that are not used in other class of applications. 'Cards and Casino' contain words like 'cards', specific card board game names which helps the classifier to maintain the higher score.\n",
    "\n",
    "Then we can also observe, some classes where the classifier makes poor predictions. 'Libraries and Demo' is one of the classes where the precision is very low (0.11). This specific class in question has the lowest number of support(instances) to train the classifier. 'Lifestyle' is an interesting category where despite having number of support instances, the classfier often identified the class as 'Social', 'Health and Fitness', 'Shopping', 'Entertainment', 'Books and References' and myriad other other classes. This however isn't as surprising considering 'Lifestyle' does not contain any strong unique identifiers that seperates it from other classes and often a overlap of application of different classes or genres. This class has a f-score of 0.18.\n",
    "\n",
    "Another interesting observation can be made for 'Books and References' class. This particular class was often misclassifed as 'Education'. The class 'Education' was also frequently misclassfied as 'Books and References', and 'Brain and Puzzle'. A case can be made for how similar this classes are, and what really sepearates between classes like 'Education' and 'Books and References'. The class 'comics' is interesting for its higher recall(0.7) and lower precision(0.21). This class 'Comics' in notable number of cases was predicted as 'Personalisation' & 'Entertainment'.\n",
    "\n",
    "A detailed table is available below which shows the True Positive, True Negative, False Positive, False Negatives for each of the classes. This numbers were used to find the precision, recall, accuracy and f-score for each of the classes. The accuracy for each class hovers around 95% or more, however this result was grossly amplified by the classfier simply not predicting that class for the instances. This weakness of accuracy is why f-measure is used which takes precision and recall into account to give an overall score."
   ]
  },
  {
   "cell_type": "markdown",
   "metadata": {
    "colab_type": "text",
    "id": "NHyWvxoDtRdh"
   },
   "source": [
    "## D. Export Results "
   ]
  },
  {
   "cell_type": "markdown",
   "metadata": {
    "colab_type": "text",
    "id": "7SX6tdMdtX53"
   },
   "source": [
    "This is important for your grading.\n",
    "\n",
    "\n",
    "You must save a file named “**predicted_labels.csv**” in the **same data format** as “training_labels.csv”.\n",
    "\n",
    "You can use PyDrive to save the data file (example is not provided here and you should find out how to do it on your own).\n",
    "\n",
    "Make sure the predictions (classiﬁcation results for the test set) are in the **same order** as test inputs, i.e. the ﬁrst row of “predicted_labels.csv” corresponds to the ﬁrst row of “test_data.csv” and so on). \n",
    "\n",
    "Your score will be based on how accurate your approach is. We will collect “predicted_labels.csv” and compare it to the actual labels to get the accuracy of your approach. For further testing purposes, we may use a diﬀerent test set while grading.\n"
   ]
  },
  {
   "cell_type": "code",
   "execution_count": 38,
   "metadata": {
    "colab": {
     "autoexec": {
      "startup": false,
      "wait_interval": 0
     },
     "base_uri": "https://localhost:8080/",
     "height": 51
    },
    "colab_type": "code",
    "executionInfo": {
     "elapsed": 4295,
     "status": "ok",
     "timestamp": 1525654080973,
     "user": {
      "displayName": "Aaquib Ladiwala",
      "photoUrl": "//lh4.googleusercontent.com/-W2UYInAok8M/AAAAAAAAAAI/AAAAAAAAAV8/TEt3FA9T4B0/s50-c-k-no/photo.jpg",
      "userId": "114107665292824214538"
     },
     "user_tz": -600
    },
    "id": "8Etwlf9rwnFv",
    "outputId": "b1303c8b-3b77-4251-ccdf-5fee815ad63d"
   },
   "outputs": [
    {
     "name": "stdout",
     "output_type": "stream",
     "text": [
      "('predictions start', 'Mon May  7 00:47:56 2018')\n",
      "('predictions end', 'Mon May  7 00:48:00 2018')\n"
     ]
    }
   ],
   "source": [
    "print (\"predictions start\" ,ctime())\n",
    "# Make predictions\n",
    "test_predictions = predict(df_test_array).astype(int)\n",
    "# Append predictions to df_test\n",
    "df_test['int_preds'] = test_predictions\n",
    "# Invert the dictionary created at the start to map labels to integers\n",
    "inv_labels_dict = {v: k for k, v in class_labels.items()}\n",
    "# Map int predictions to labels\n",
    "df_test['label'] = df_test['int_preds'].map(inv_labels_dict)\n",
    "df_final = df_test.loc[:, ['name', 'label']]\n",
    "print (\"predictions end\" ,ctime())\n",
    "header = [\"name\", \"label\"]\n",
    "df_final.to_csv(\"test.csv\",columns=header,index=False , sep=';',header=False)"
   ]
  },
  {
   "cell_type": "markdown",
   "metadata": {
    "colab_type": "text",
    "id": "xtza8xX-GVuH"
   },
   "source": [
    "### Time = ~5 seconds"
   ]
  },
  {
   "cell_type": "code",
   "execution_count": 0,
   "metadata": {
    "colab": {
     "autoexec": {
      "startup": false,
      "wait_interval": 0
     }
    },
    "colab_type": "code",
    "id": "8riv362eUWrO"
   },
   "outputs": [],
   "source": [
    "gfile = drive.CreateFile({'title':'predicted_labels.csv', 'mimeType':'text/csv',\n",
    "        \"parents\": [{\"id\":'13AVnd-fGVAcIIJZy6ParOFaJa_xyr5YX' }]})\n",
    "gfile.SetContentFile(\"test.csv\")\n",
    "gfile.Upload()"
   ]
  },
  {
   "cell_type": "markdown",
   "metadata": {
    "colab_type": "text",
    "id": "CBYRlGaCbknL"
   },
   "source": [
    "**Insert the url address of your predicted_labels.csv file:   **\n",
    "\n"
   ]
  },
  {
   "cell_type": "markdown",
   "metadata": {
    "colab_type": "text",
    "id": "z9tuqCpZigo1"
   },
   "source": [
    "## E. Discussion (max 300 words)"
   ]
  },
  {
   "cell_type": "markdown",
   "metadata": {
    "colab_type": "text",
    "id": "NXwLgIecsBBK"
   },
   "source": [
    "As discussed in the extensive analysis section, there are a handful of classes which the model struggles to differentiate between due to there similarity. What could create differences between these classes is a multinomial model rather than bernoulli. The multinomial model considers the frequency of the word rather than just if it is present or not. This would help seperate classes which have overlapping charisteristics.\n",
    "\n",
    "With some classes being very similar, what is considered the correct label for an app? For this project, we have assumed the data provided has the truth as its labels. However, this is a subjective decision where in most cases an app could reasonably belong to multiple classes. In the example given above, it is possible that two publishes could be given the same app and one choose ‘Transportation’ and the other ‘Travel & Local’.  This creates noise in the response variable and reduces the models ability to accurately make predictions. \n",
    "\n",
    "In addition to a noisy response variable, the feature selection section briefly touched on text classification problems having noisy features. When this is present, the accuracy of the model can be negatively affected (Narayanan et al, 2013). To find the features which maximise accuracy, the model could have been trained and tested multiple times using subsets of the features based on there mutual information values. However, this process was not implemented due to the computational intensity."
   ]
  },
  {
   "cell_type": "markdown",
   "metadata": {
    "colab_type": "text",
    "id": "-fMZxY0aZQOe"
   },
   "source": [
    "## F. Future work"
   ]
  },
  {
   "cell_type": "markdown",
   "metadata": {
    "colab_type": "text",
    "id": "GykHQQSmZVbS"
   },
   "source": [
    "Further improvements can be made to this classification task through the following changes:\n",
    "* Use a multinomial naïve bayes model. This model takes into account the count of the words in the document. It is likely this would improve the accuracy of the model, especially for the classes which have overlapping words.\n",
    "* Using more powerful algorithms such as support vector machines. \n",
    "* If the we were to stay with the Bernoulli model, increasing the efficiency of the algorithm would allow for model tuning through feature selection. Note, cross validation would be used to select the best model. As the current train/validation split method can be susceptible to high bias. Additionally, a more efficient algorithm would allow for the model to be trained on more data, hence, likely improving the accuracy.\n"
   ]
  },
  {
   "cell_type": "markdown",
   "metadata": {
    "colab_type": "text",
    "id": "CLduNHQlZV1m"
   },
   "source": [
    "## G. Conclusion"
   ]
  },
  {
   "cell_type": "markdown",
   "metadata": {
    "colab_type": "text",
    "id": "5gmP2d8fqoqx"
   },
   "source": [
    "In this assignment, we were able to learn the complexities involved with handling sparse data  in a classification task with limited memory. While the implemented Naive Bayes was able to offer a respectable result, through our analysis we have offered examples of how classes often get misclassified by having descriptions in similar context and not providing strong unique identifiers. This accuracy of the model could be improved by increases the speed of the algorithm which would allow for a more rigourous feature selection experiemnt. Additionally, classifiers such as the multinomial model or support vector machines could increase the accuracy."
   ]
  },
  {
   "cell_type": "markdown",
   "metadata": {
    "colab_type": "text",
    "id": "il1S9xh5suYH"
   },
   "source": [
    "## H. References"
   ]
  },
  {
   "cell_type": "markdown",
   "metadata": {
    "colab_type": "text",
    "id": "tB9UVjbwtCRW"
   },
   "source": [
    "Christopher D. Manning, C., 'Introduction to information retrieval', chapter 13, Cambridge University Press \n",
    "\n",
    "Dogtiev, A., 2016, ‘How to choose the right app store category’, Business of Apps, http://www.businessofapps.com/how-to-choose-the-right-app-store-category/\n",
    "\n",
    "Narayanan, V., Arora, I., Bhatia, A., 2013, ‘Fast and accurate sentiment classification using an enhanced Naive Bayes model’, Indian Institute of Technology\n",
    "\n",
    "Olabenjo, B., 2016, ‘Applying naïve bayes apps classification to google play apps categorization’, University of Saskatchewan\n",
    "\n",
    "Schoon, B., 2016,  ‘Google Play Store picks up 8 new app categories to bolster discovery experience’ 9TO5Google, discovery experience https://9to5google.com/2016/07/27/google-play-store-new-categories/\n",
    "\n",
    "Unknown, 2013, ‘Thousands of health apps but so few downloads?’, The Sun Daily, http://www.thesundaily.my/news/871252"
   ]
  }
 ],
 "metadata": {
  "colab": {
   "collapsed_sections": [],
   "default_view": {},
   "name": "Assignment_1.ipynb",
   "provenance": [
    {
     "file_id": "18Sz9l79Z9dqWEhyNlwrmnzolq-yTD1ET",
     "timestamp": 1524563868422
    },
    {
     "file_id": "1riQwMaLR1_5gCPDRfOKm-gzKBWd95lJP",
     "timestamp": 1524545142002
    }
   ],
   "version": "0.3.2",
   "views": {}
  },
  "kernelspec": {
   "display_name": "Python 3",
   "language": "python",
   "name": "python3"
  },
  "language_info": {
   "codemirror_mode": {
    "name": "ipython",
    "version": 3
   },
   "file_extension": ".py",
   "mimetype": "text/x-python",
   "name": "python",
   "nbconvert_exporter": "python",
   "pygments_lexer": "ipython3",
   "version": "3.6.5"
  }
 },
 "nbformat": 4,
 "nbformat_minor": 1
}
